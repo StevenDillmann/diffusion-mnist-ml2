{
 "cells": [
  {
   "cell_type": "markdown",
   "metadata": {
    "id": "nOqtixLa1y-b"
   },
   "source": [
    "# Applications of Machine Learning - Coursework Submission - Notebook for Model 3\n",
    "### Steven Dillmann\n",
    "\n",
    "**MPhil Data Intensive Science | University of Cambridge**\n",
    "\n",
    "28th March 2024\n",
    "\n",
    "[sd2022@cam.ac.uk](sd2022@cam.ac.uk)\n",
    "\n",
    "This notebook was written by Steven Dillmann as part of the coursework submission for the *Applications of Machine Learning* module in the MPhil in Data Intensive Science at the University of Cambridge. The coursework assignment can be found here: [Applications of Machine Learning - Coursework Assignment](../coursework.pdf). The associated report can be found here: [Applications of Machine Learning - Coursework Report](../report/m2_sd2022_report.pdf)."
   ]
  },
  {
   "cell_type": "markdown",
   "metadata": {},
   "source": [
    "## Set-Up"
   ]
  },
  {
   "cell_type": "markdown",
   "metadata": {},
   "source": [
    "### Installations & Imports and Settings"
   ]
  },
  {
   "cell_type": "code",
   "execution_count": 1,
   "metadata": {
    "id": "50FGtZsk1y-b"
   },
   "outputs": [
    {
     "name": "stdout",
     "output_type": "stream",
     "text": [
      "Requirement already satisfied: pandas in /Users/steven/anaconda3/envs/m2_env/lib/python3.11/site-packages (2.2.1)\n",
      "Requirement already satisfied: numpy<2,>=1.23.2 in /Users/steven/anaconda3/envs/m2_env/lib/python3.11/site-packages (from pandas) (1.26.4)\n",
      "Requirement already satisfied: python-dateutil>=2.8.2 in /Users/steven/anaconda3/envs/m2_env/lib/python3.11/site-packages (from pandas) (2.9.0.post0)\n",
      "Requirement already satisfied: pytz>=2020.1 in /Users/steven/anaconda3/envs/m2_env/lib/python3.11/site-packages (from pandas) (2024.1)\n",
      "Requirement already satisfied: tzdata>=2022.7 in /Users/steven/anaconda3/envs/m2_env/lib/python3.11/site-packages (from pandas) (2024.1)\n",
      "Requirement already satisfied: six>=1.5 in /Users/steven/anaconda3/envs/m2_env/lib/python3.11/site-packages (from python-dateutil>=2.8.2->pandas) (1.16.0)\n",
      "Requirement already satisfied: numpy in /Users/steven/anaconda3/envs/m2_env/lib/python3.11/site-packages (1.26.4)\n",
      "Requirement already satisfied: typing in /Users/steven/anaconda3/envs/m2_env/lib/python3.11/site-packages (3.7.4.3)\n",
      "Requirement already satisfied: torch in /Users/steven/anaconda3/envs/m2_env/lib/python3.11/site-packages (2.2.0)\n",
      "Requirement already satisfied: filelock in /Users/steven/anaconda3/envs/m2_env/lib/python3.11/site-packages (from torch) (3.13.1)\n",
      "Requirement already satisfied: typing-extensions>=4.8.0 in /Users/steven/anaconda3/envs/m2_env/lib/python3.11/site-packages (from torch) (4.10.0)\n",
      "Requirement already satisfied: sympy in /Users/steven/anaconda3/envs/m2_env/lib/python3.11/site-packages (from torch) (1.12)\n",
      "Requirement already satisfied: networkx in /Users/steven/anaconda3/envs/m2_env/lib/python3.11/site-packages (from torch) (3.2.1)\n",
      "Requirement already satisfied: jinja2 in /Users/steven/anaconda3/envs/m2_env/lib/python3.11/site-packages (from torch) (3.1.3)\n",
      "Requirement already satisfied: fsspec in /Users/steven/anaconda3/envs/m2_env/lib/python3.11/site-packages (from torch) (2024.3.0)\n",
      "Requirement already satisfied: MarkupSafe>=2.0 in /Users/steven/anaconda3/envs/m2_env/lib/python3.11/site-packages (from jinja2->torch) (2.1.5)\n",
      "Requirement already satisfied: mpmath>=0.19 in /Users/steven/anaconda3/envs/m2_env/lib/python3.11/site-packages (from sympy->torch) (1.3.0)\n",
      "Requirement already satisfied: accelerate in /Users/steven/anaconda3/envs/m2_env/lib/python3.11/site-packages (0.27.2)\n",
      "Requirement already satisfied: numpy>=1.17 in /Users/steven/anaconda3/envs/m2_env/lib/python3.11/site-packages (from accelerate) (1.26.4)\n",
      "Requirement already satisfied: packaging>=20.0 in /Users/steven/anaconda3/envs/m2_env/lib/python3.11/site-packages (from accelerate) (24.0)\n",
      "Requirement already satisfied: psutil in /Users/steven/anaconda3/envs/m2_env/lib/python3.11/site-packages (from accelerate) (5.9.8)\n",
      "Requirement already satisfied: pyyaml in /Users/steven/anaconda3/envs/m2_env/lib/python3.11/site-packages (from accelerate) (6.0.1)\n",
      "Requirement already satisfied: torch>=1.10.0 in /Users/steven/anaconda3/envs/m2_env/lib/python3.11/site-packages (from accelerate) (2.2.0)\n",
      "Requirement already satisfied: huggingface-hub in /Users/steven/anaconda3/envs/m2_env/lib/python3.11/site-packages (from accelerate) (0.21.4)\n",
      "Requirement already satisfied: safetensors>=0.3.1 in /Users/steven/anaconda3/envs/m2_env/lib/python3.11/site-packages (from accelerate) (0.4.2)\n",
      "Requirement already satisfied: filelock in /Users/steven/anaconda3/envs/m2_env/lib/python3.11/site-packages (from torch>=1.10.0->accelerate) (3.13.1)\n",
      "Requirement already satisfied: typing-extensions>=4.8.0 in /Users/steven/anaconda3/envs/m2_env/lib/python3.11/site-packages (from torch>=1.10.0->accelerate) (4.10.0)\n",
      "Requirement already satisfied: sympy in /Users/steven/anaconda3/envs/m2_env/lib/python3.11/site-packages (from torch>=1.10.0->accelerate) (1.12)\n",
      "Requirement already satisfied: networkx in /Users/steven/anaconda3/envs/m2_env/lib/python3.11/site-packages (from torch>=1.10.0->accelerate) (3.2.1)\n",
      "Requirement already satisfied: jinja2 in /Users/steven/anaconda3/envs/m2_env/lib/python3.11/site-packages (from torch>=1.10.0->accelerate) (3.1.3)\n",
      "Requirement already satisfied: fsspec in /Users/steven/anaconda3/envs/m2_env/lib/python3.11/site-packages (from torch>=1.10.0->accelerate) (2024.3.0)\n",
      "Requirement already satisfied: requests in /Users/steven/anaconda3/envs/m2_env/lib/python3.11/site-packages (from huggingface-hub->accelerate) (2.31.0)\n",
      "Requirement already satisfied: tqdm>=4.42.1 in /Users/steven/anaconda3/envs/m2_env/lib/python3.11/site-packages (from huggingface-hub->accelerate) (4.66.2)\n",
      "Requirement already satisfied: MarkupSafe>=2.0 in /Users/steven/anaconda3/envs/m2_env/lib/python3.11/site-packages (from jinja2->torch>=1.10.0->accelerate) (2.1.5)\n",
      "Requirement already satisfied: charset-normalizer<4,>=2 in /Users/steven/anaconda3/envs/m2_env/lib/python3.11/site-packages (from requests->huggingface-hub->accelerate) (3.3.2)\n",
      "Requirement already satisfied: idna<4,>=2.5 in /Users/steven/anaconda3/envs/m2_env/lib/python3.11/site-packages (from requests->huggingface-hub->accelerate) (3.6)\n",
      "Requirement already satisfied: urllib3<3,>=1.21.1 in /Users/steven/anaconda3/envs/m2_env/lib/python3.11/site-packages (from requests->huggingface-hub->accelerate) (2.2.1)\n",
      "Requirement already satisfied: certifi>=2017.4.17 in /Users/steven/anaconda3/envs/m2_env/lib/python3.11/site-packages (from requests->huggingface-hub->accelerate) (2024.2.2)\n",
      "Requirement already satisfied: mpmath>=0.19 in /Users/steven/anaconda3/envs/m2_env/lib/python3.11/site-packages (from sympy->torch>=1.10.0->accelerate) (1.3.0)\n",
      "Requirement already satisfied: torchvision in /Users/steven/anaconda3/envs/m2_env/lib/python3.11/site-packages (0.17.0)\n",
      "Requirement already satisfied: numpy in /Users/steven/anaconda3/envs/m2_env/lib/python3.11/site-packages (from torchvision) (1.26.4)\n",
      "Requirement already satisfied: requests in /Users/steven/anaconda3/envs/m2_env/lib/python3.11/site-packages (from torchvision) (2.31.0)\n",
      "Requirement already satisfied: torch==2.2.0 in /Users/steven/anaconda3/envs/m2_env/lib/python3.11/site-packages (from torchvision) (2.2.0)\n",
      "Requirement already satisfied: pillow!=8.3.*,>=5.3.0 in /Users/steven/anaconda3/envs/m2_env/lib/python3.11/site-packages (from torchvision) (10.2.0)\n",
      "Requirement already satisfied: filelock in /Users/steven/anaconda3/envs/m2_env/lib/python3.11/site-packages (from torch==2.2.0->torchvision) (3.13.1)\n",
      "Requirement already satisfied: typing-extensions>=4.8.0 in /Users/steven/anaconda3/envs/m2_env/lib/python3.11/site-packages (from torch==2.2.0->torchvision) (4.10.0)\n",
      "Requirement already satisfied: sympy in /Users/steven/anaconda3/envs/m2_env/lib/python3.11/site-packages (from torch==2.2.0->torchvision) (1.12)\n",
      "Requirement already satisfied: networkx in /Users/steven/anaconda3/envs/m2_env/lib/python3.11/site-packages (from torch==2.2.0->torchvision) (3.2.1)\n",
      "Requirement already satisfied: jinja2 in /Users/steven/anaconda3/envs/m2_env/lib/python3.11/site-packages (from torch==2.2.0->torchvision) (3.1.3)\n",
      "Requirement already satisfied: fsspec in /Users/steven/anaconda3/envs/m2_env/lib/python3.11/site-packages (from torch==2.2.0->torchvision) (2024.3.0)\n",
      "Requirement already satisfied: charset-normalizer<4,>=2 in /Users/steven/anaconda3/envs/m2_env/lib/python3.11/site-packages (from requests->torchvision) (3.3.2)\n",
      "Requirement already satisfied: idna<4,>=2.5 in /Users/steven/anaconda3/envs/m2_env/lib/python3.11/site-packages (from requests->torchvision) (3.6)\n",
      "Requirement already satisfied: urllib3<3,>=1.21.1 in /Users/steven/anaconda3/envs/m2_env/lib/python3.11/site-packages (from requests->torchvision) (2.2.1)\n",
      "Requirement already satisfied: certifi>=2017.4.17 in /Users/steven/anaconda3/envs/m2_env/lib/python3.11/site-packages (from requests->torchvision) (2024.2.2)\n",
      "Requirement already satisfied: MarkupSafe>=2.0 in /Users/steven/anaconda3/envs/m2_env/lib/python3.11/site-packages (from jinja2->torch==2.2.0->torchvision) (2.1.5)\n",
      "Requirement already satisfied: mpmath>=0.19 in /Users/steven/anaconda3/envs/m2_env/lib/python3.11/site-packages (from sympy->torch==2.2.0->torchvision) (1.3.0)\n",
      "Requirement already satisfied: tqdm in /Users/steven/anaconda3/envs/m2_env/lib/python3.11/site-packages (4.66.2)\n",
      "Requirement already satisfied: ipykernel in /Users/steven/anaconda3/envs/m2_env/lib/python3.11/site-packages (6.29.2)\n",
      "Requirement already satisfied: appnope in /Users/steven/anaconda3/envs/m2_env/lib/python3.11/site-packages (from ipykernel) (0.1.4)\n",
      "Requirement already satisfied: comm>=0.1.1 in /Users/steven/anaconda3/envs/m2_env/lib/python3.11/site-packages (from ipykernel) (0.2.2)\n",
      "Requirement already satisfied: debugpy>=1.6.5 in /Users/steven/anaconda3/envs/m2_env/lib/python3.11/site-packages (from ipykernel) (1.8.1)\n",
      "Requirement already satisfied: ipython>=7.23.1 in /Users/steven/anaconda3/envs/m2_env/lib/python3.11/site-packages (from ipykernel) (8.21.0)\n",
      "Requirement already satisfied: jupyter-client>=6.1.12 in /Users/steven/anaconda3/envs/m2_env/lib/python3.11/site-packages (from ipykernel) (8.6.1)\n",
      "Requirement already satisfied: jupyter-core!=5.0.*,>=4.12 in /Users/steven/anaconda3/envs/m2_env/lib/python3.11/site-packages (from ipykernel) (5.7.2)\n",
      "Requirement already satisfied: matplotlib-inline>=0.1 in /Users/steven/anaconda3/envs/m2_env/lib/python3.11/site-packages (from ipykernel) (0.1.6)\n",
      "Requirement already satisfied: nest-asyncio in /Users/steven/anaconda3/envs/m2_env/lib/python3.11/site-packages (from ipykernel) (1.6.0)\n",
      "Requirement already satisfied: packaging in /Users/steven/anaconda3/envs/m2_env/lib/python3.11/site-packages (from ipykernel) (24.0)\n",
      "Requirement already satisfied: psutil in /Users/steven/anaconda3/envs/m2_env/lib/python3.11/site-packages (from ipykernel) (5.9.8)\n",
      "Requirement already satisfied: pyzmq>=24 in /Users/steven/anaconda3/envs/m2_env/lib/python3.11/site-packages (from ipykernel) (25.1.2)\n",
      "Requirement already satisfied: tornado>=6.1 in /Users/steven/anaconda3/envs/m2_env/lib/python3.11/site-packages (from ipykernel) (6.4)\n",
      "Requirement already satisfied: traitlets>=5.4.0 in /Users/steven/anaconda3/envs/m2_env/lib/python3.11/site-packages (from ipykernel) (5.14.2)\n",
      "Requirement already satisfied: decorator in /Users/steven/anaconda3/envs/m2_env/lib/python3.11/site-packages (from ipython>=7.23.1->ipykernel) (5.1.1)\n",
      "Requirement already satisfied: jedi>=0.16 in /Users/steven/anaconda3/envs/m2_env/lib/python3.11/site-packages (from ipython>=7.23.1->ipykernel) (0.19.1)\n",
      "Requirement already satisfied: prompt-toolkit<3.1.0,>=3.0.41 in /Users/steven/anaconda3/envs/m2_env/lib/python3.11/site-packages (from ipython>=7.23.1->ipykernel) (3.0.43)\n",
      "Requirement already satisfied: pygments>=2.4.0 in /Users/steven/anaconda3/envs/m2_env/lib/python3.11/site-packages (from ipython>=7.23.1->ipykernel) (2.17.2)\n",
      "Requirement already satisfied: stack-data in /Users/steven/anaconda3/envs/m2_env/lib/python3.11/site-packages (from ipython>=7.23.1->ipykernel) (0.6.3)\n",
      "Requirement already satisfied: pexpect>4.3 in /Users/steven/anaconda3/envs/m2_env/lib/python3.11/site-packages (from ipython>=7.23.1->ipykernel) (4.9.0)\n",
      "Requirement already satisfied: python-dateutil>=2.8.2 in /Users/steven/anaconda3/envs/m2_env/lib/python3.11/site-packages (from jupyter-client>=6.1.12->ipykernel) (2.9.0.post0)\n",
      "Requirement already satisfied: platformdirs>=2.5 in /Users/steven/anaconda3/envs/m2_env/lib/python3.11/site-packages (from jupyter-core!=5.0.*,>=4.12->ipykernel) (4.2.0)\n",
      "Requirement already satisfied: parso<0.9.0,>=0.8.3 in /Users/steven/anaconda3/envs/m2_env/lib/python3.11/site-packages (from jedi>=0.16->ipython>=7.23.1->ipykernel) (0.8.3)\n",
      "Requirement already satisfied: ptyprocess>=0.5 in /Users/steven/anaconda3/envs/m2_env/lib/python3.11/site-packages (from pexpect>4.3->ipython>=7.23.1->ipykernel) (0.7.0)\n",
      "Requirement already satisfied: wcwidth in /Users/steven/anaconda3/envs/m2_env/lib/python3.11/site-packages (from prompt-toolkit<3.1.0,>=3.0.41->ipython>=7.23.1->ipykernel) (0.2.13)\n",
      "Requirement already satisfied: six>=1.5 in /Users/steven/anaconda3/envs/m2_env/lib/python3.11/site-packages (from python-dateutil>=2.8.2->jupyter-client>=6.1.12->ipykernel) (1.16.0)\n",
      "Requirement already satisfied: executing>=1.2.0 in /Users/steven/anaconda3/envs/m2_env/lib/python3.11/site-packages (from stack-data->ipython>=7.23.1->ipykernel) (2.0.1)\n",
      "Requirement already satisfied: asttokens>=2.1.0 in /Users/steven/anaconda3/envs/m2_env/lib/python3.11/site-packages (from stack-data->ipython>=7.23.1->ipykernel) (2.4.1)\n",
      "Requirement already satisfied: pure-eval in /Users/steven/anaconda3/envs/m2_env/lib/python3.11/site-packages (from stack-data->ipython>=7.23.1->ipykernel) (0.2.2)\n",
      "Requirement already satisfied: ipython in /Users/steven/anaconda3/envs/m2_env/lib/python3.11/site-packages (8.21.0)\n",
      "Requirement already satisfied: decorator in /Users/steven/anaconda3/envs/m2_env/lib/python3.11/site-packages (from ipython) (5.1.1)\n",
      "Requirement already satisfied: jedi>=0.16 in /Users/steven/anaconda3/envs/m2_env/lib/python3.11/site-packages (from ipython) (0.19.1)\n",
      "Requirement already satisfied: matplotlib-inline in /Users/steven/anaconda3/envs/m2_env/lib/python3.11/site-packages (from ipython) (0.1.6)\n",
      "Requirement already satisfied: prompt-toolkit<3.1.0,>=3.0.41 in /Users/steven/anaconda3/envs/m2_env/lib/python3.11/site-packages (from ipython) (3.0.43)\n",
      "Requirement already satisfied: pygments>=2.4.0 in /Users/steven/anaconda3/envs/m2_env/lib/python3.11/site-packages (from ipython) (2.17.2)\n",
      "Requirement already satisfied: stack-data in /Users/steven/anaconda3/envs/m2_env/lib/python3.11/site-packages (from ipython) (0.6.3)\n",
      "Requirement already satisfied: traitlets>=5 in /Users/steven/anaconda3/envs/m2_env/lib/python3.11/site-packages (from ipython) (5.14.2)\n",
      "Requirement already satisfied: pexpect>4.3 in /Users/steven/anaconda3/envs/m2_env/lib/python3.11/site-packages (from ipython) (4.9.0)\n",
      "Requirement already satisfied: parso<0.9.0,>=0.8.3 in /Users/steven/anaconda3/envs/m2_env/lib/python3.11/site-packages (from jedi>=0.16->ipython) (0.8.3)\n",
      "Requirement already satisfied: ptyprocess>=0.5 in /Users/steven/anaconda3/envs/m2_env/lib/python3.11/site-packages (from pexpect>4.3->ipython) (0.7.0)\n",
      "Requirement already satisfied: wcwidth in /Users/steven/anaconda3/envs/m2_env/lib/python3.11/site-packages (from prompt-toolkit<3.1.0,>=3.0.41->ipython) (0.2.13)\n",
      "Requirement already satisfied: executing>=1.2.0 in /Users/steven/anaconda3/envs/m2_env/lib/python3.11/site-packages (from stack-data->ipython) (2.0.1)\n",
      "Requirement already satisfied: asttokens>=2.1.0 in /Users/steven/anaconda3/envs/m2_env/lib/python3.11/site-packages (from stack-data->ipython) (2.4.1)\n",
      "Requirement already satisfied: pure-eval in /Users/steven/anaconda3/envs/m2_env/lib/python3.11/site-packages (from stack-data->ipython) (0.2.2)\n",
      "Requirement already satisfied: six>=1.12.0 in /Users/steven/anaconda3/envs/m2_env/lib/python3.11/site-packages (from asttokens>=2.1.0->stack-data->ipython) (1.16.0)\n",
      "Requirement already satisfied: scipy in /Users/steven/anaconda3/envs/m2_env/lib/python3.11/site-packages (1.12.0)\n",
      "Requirement already satisfied: numpy<1.29.0,>=1.22.4 in /Users/steven/anaconda3/envs/m2_env/lib/python3.11/site-packages (from scipy) (1.26.4)\n",
      "Requirement already satisfied: torchmetrics in /Users/steven/anaconda3/envs/m2_env/lib/python3.11/site-packages (1.3.2)\n",
      "Requirement already satisfied: numpy>1.20.0 in /Users/steven/anaconda3/envs/m2_env/lib/python3.11/site-packages (from torchmetrics) (1.26.4)\n",
      "Requirement already satisfied: packaging>17.1 in /Users/steven/anaconda3/envs/m2_env/lib/python3.11/site-packages (from torchmetrics) (24.0)\n",
      "Requirement already satisfied: torch>=1.10.0 in /Users/steven/anaconda3/envs/m2_env/lib/python3.11/site-packages (from torchmetrics) (2.2.0)\n",
      "Requirement already satisfied: lightning-utilities>=0.8.0 in /Users/steven/anaconda3/envs/m2_env/lib/python3.11/site-packages (from torchmetrics) (0.11.2)\n",
      "Requirement already satisfied: setuptools in /Users/steven/anaconda3/envs/m2_env/lib/python3.11/site-packages (from lightning-utilities>=0.8.0->torchmetrics) (69.2.0)\n",
      "Requirement already satisfied: typing-extensions in /Users/steven/anaconda3/envs/m2_env/lib/python3.11/site-packages (from lightning-utilities>=0.8.0->torchmetrics) (4.10.0)\n",
      "Requirement already satisfied: filelock in /Users/steven/anaconda3/envs/m2_env/lib/python3.11/site-packages (from torch>=1.10.0->torchmetrics) (3.13.1)\n",
      "Requirement already satisfied: sympy in /Users/steven/anaconda3/envs/m2_env/lib/python3.11/site-packages (from torch>=1.10.0->torchmetrics) (1.12)\n",
      "Requirement already satisfied: networkx in /Users/steven/anaconda3/envs/m2_env/lib/python3.11/site-packages (from torch>=1.10.0->torchmetrics) (3.2.1)\n",
      "Requirement already satisfied: jinja2 in /Users/steven/anaconda3/envs/m2_env/lib/python3.11/site-packages (from torch>=1.10.0->torchmetrics) (3.1.3)\n",
      "Requirement already satisfied: fsspec in /Users/steven/anaconda3/envs/m2_env/lib/python3.11/site-packages (from torch>=1.10.0->torchmetrics) (2024.3.0)\n",
      "Requirement already satisfied: MarkupSafe>=2.0 in /Users/steven/anaconda3/envs/m2_env/lib/python3.11/site-packages (from jinja2->torch>=1.10.0->torchmetrics) (2.1.5)\n",
      "Requirement already satisfied: mpmath>=0.19 in /Users/steven/anaconda3/envs/m2_env/lib/python3.11/site-packages (from sympy->torch>=1.10.0->torchmetrics) (1.3.0)\n",
      "Requirement already satisfied: matplotlib in /Users/steven/anaconda3/envs/m2_env/lib/python3.11/site-packages (3.8.3)\n",
      "Requirement already satisfied: contourpy>=1.0.1 in /Users/steven/anaconda3/envs/m2_env/lib/python3.11/site-packages (from matplotlib) (1.2.0)\n",
      "Requirement already satisfied: cycler>=0.10 in /Users/steven/anaconda3/envs/m2_env/lib/python3.11/site-packages (from matplotlib) (0.12.1)\n",
      "Requirement already satisfied: fonttools>=4.22.0 in /Users/steven/anaconda3/envs/m2_env/lib/python3.11/site-packages (from matplotlib) (4.50.0)\n",
      "Requirement already satisfied: kiwisolver>=1.3.1 in /Users/steven/anaconda3/envs/m2_env/lib/python3.11/site-packages (from matplotlib) (1.4.5)\n",
      "Requirement already satisfied: numpy<2,>=1.21 in /Users/steven/anaconda3/envs/m2_env/lib/python3.11/site-packages (from matplotlib) (1.26.4)\n",
      "Requirement already satisfied: packaging>=20.0 in /Users/steven/anaconda3/envs/m2_env/lib/python3.11/site-packages (from matplotlib) (24.0)\n",
      "Requirement already satisfied: pillow>=8 in /Users/steven/anaconda3/envs/m2_env/lib/python3.11/site-packages (from matplotlib) (10.2.0)\n",
      "Requirement already satisfied: pyparsing>=2.3.1 in /Users/steven/anaconda3/envs/m2_env/lib/python3.11/site-packages (from matplotlib) (3.1.2)\n",
      "Requirement already satisfied: python-dateutil>=2.7 in /Users/steven/anaconda3/envs/m2_env/lib/python3.11/site-packages (from matplotlib) (2.9.0.post0)\n",
      "Requirement already satisfied: six>=1.5 in /Users/steven/anaconda3/envs/m2_env/lib/python3.11/site-packages (from python-dateutil>=2.7->matplotlib) (1.16.0)\n"
     ]
    },
    {
     "name": "stderr",
     "output_type": "stream",
     "text": [
      "/Users/steven/anaconda3/envs/m2_env/lib/python3.11/site-packages/tqdm/auto.py:21: TqdmWarning: IProgress not found. Please update jupyter and ipywidgets. See https://ipywidgets.readthedocs.io/en/stable/user_install.html\n",
      "  from .autonotebook import tqdm as notebook_tqdm\n"
     ]
    }
   ],
   "source": [
    "!mkdir -p contents\n",
    "!pip install pandas\n",
    "!pip install numpy\n",
    "!pip install typing\n",
    "!pip install torch\n",
    "!pip install accelerate\n",
    "!pip install torchvision\n",
    "!pip install tqdm\n",
    "!pip install ipykernel\n",
    "!pip install ipython\n",
    "!pip install scipy\n",
    "!pip install torchmetrics\n",
    "!pip install matplotlib\n",
    "from typing import Dict, Tuple\n",
    "import numpy as np\n",
    "import torch\n",
    "import torch.nn as nn\n",
    "from accelerate import Accelerator\n",
    "from tqdm import tqdm\n",
    "from torch.utils.data import DataLoader\n",
    "from torchvision import transforms\n",
    "from torchvision.datasets import MNIST\n",
    "from torchvision.utils import save_image, make_grid\n",
    "from torch.utils.data import DataLoader, random_split\n",
    "from torchmetrics.image.fid import FrechetInceptionDistance\n",
    "import os\n",
    "import matplotlib.pyplot as plt\n",
    "import pandas as pd\n",
    "import shutil\n",
    "import matplotlib.image as mpimg\n",
    "import matplotlib.patches as patches\n",
    "from scipy.stats import entropy\n",
    "plt.style.use('sd2022.mplstyle')\n",
    "sd2022_blue = '#3772ff'\n",
    "sd2022_red = '#FF033E'\n",
    "sd2022_green = '#05a45c'\n",
    "sd2022_purple = '#994d9e' # DIS logo colour\n",
    "sd2022_orange = '#ff8243'\n",
    "sd2022_yellow = '#fada5e'\n",
    "sd2022_pink = '#df37d6'\n",
    "sd2022_turq = '#30d5c8'\n",
    "sd2022_neongreen = '#0FFF50'\n",
    "sd2022_neonblue = '#4D4DFF'\n",
    "sd2022_gold = '#cfbd62' \n",
    "sd2022_silver = '#C0C0C0'\n",
    "sd2022_bronze =  '#b08d57'"
   ]
  },
  {
   "cell_type": "markdown",
   "metadata": {},
   "source": [
    "## Define Model"
   ]
  },
  {
   "cell_type": "markdown",
   "metadata": {},
   "source": [
    "### Create Noise Schedule"
   ]
  },
  {
   "cell_type": "code",
   "execution_count": 2,
   "metadata": {
    "id": "MMQ1-BSc1y-c"
   },
   "outputs": [],
   "source": [
    "# Impulse Noise Degradation\n",
    "def add_salt_and_pepper(image: torch.Tensor, noise_density) -> torch.Tensor:\n",
    "    \"\"\"Adds salt and pepper noise to an image tensor.\n",
    "    \n",
    "    Parameters\n",
    "    ----------\n",
    "    image : torch.Tensor\n",
    "        The input image tensor.\n",
    "    noise_density : float\n",
    "        The noise density, which represents the amount of salt and pepper noise to add.\n",
    "        The noise density should be a float between 0 and 0.5.\n",
    "\n",
    "    Returns\n",
    "    -------\n",
    "    torch.Tensor\n",
    "        The image tensor with salt and pepper noise.\n",
    "    \"\"\"\n",
    "    # Check if the noise_density is a tensor\n",
    "    if not isinstance(noise_density, float):\n",
    "        noise_density = noise_density.view(-1, 1, 1, 1)\n",
    "    # Generate the random tensor H with the same shape as x\n",
    "    random_image = torch.rand_like(image)\n",
    "    # Create the salt and pepper masks\n",
    "    salt_mask = (random_image <= noise_density)\n",
    "    pepper_mask = (random_image > 1 - noise_density)\n",
    "    # Apply the masks to the image\n",
    "    impulse_image = image.clone()  \n",
    "    impulse_image[salt_mask] = 0.5  \n",
    "    impulse_image[pepper_mask] = -0.5\n",
    "    return impulse_image\n",
    "\n",
    "# Cosine Scheduler\n",
    "def cosine_scheduler(num_steps: int, initial_noise_level: float, final_noise_level: float, s = 0.0) -> torch.Tensor:\n",
    "    \"\"\"Generates a cosine scheduler for the noise level in the impulse noise degradation process.\n",
    "\n",
    "    Parameters\n",
    "    ----------\n",
    "    num_steps : int\n",
    "        The number of steps in the cosine scheduler.\n",
    "    initial_noise_level : float\n",
    "        The initial noise level in the cosine scheduler.\n",
    "    final_noise_level : float\n",
    "        The final noise level in the cosine scheduler.\n",
    "    s : float, optional\n",
    "        The scaling factor in the cosine scheduler formula, by default 0.0.\n",
    "\n",
    "    Returns\n",
    "    -------\n",
    "    torch.Tensor\n",
    "        A tensor representing the noise levels at each step in the process.\n",
    "\n",
    "    References\n",
    "    ----------\n",
    "    [1] Alexander Quinn Nichol Quinn Nichol and Prafulla Dhariwal, \n",
    "    Improved denoising diffusion probabilistic models, \n",
    "    International Conference on Machine Learning, 2021.\n",
    "    \"\"\"\n",
    "    # Check if the noise levels are within the valid range\n",
    "    assert 0 < initial_noise_level <= final_noise_level and 0 <= final_noise_level < 0.5, \"Noise levels must be between 0 and 0.5\"\n",
    "    # Check if the number of steps is valid\n",
    "    assert num_steps > 0, \"num_steps must be a positive integer\"\n",
    "    # Create a tensor representing each step in the process\n",
    "    steps = torch.arange(num_steps).float()\n",
    "    # Apply the custom cosine formula\n",
    "    cos_values = torch.cos((steps / num_steps + s) * torch.pi / (1 + s) / 2) ** 2\n",
    "    # Normalise the cos_values to range from final_noise_level to initial_noise_level\n",
    "    noise_levels = cos_values * (initial_noise_level - final_noise_level) + final_noise_level\n",
    "\n",
    "    return noise_levels\n"
   ]
  },
  {
   "cell_type": "markdown",
   "metadata": {},
   "source": [
    "### Define CNN"
   ]
  },
  {
   "cell_type": "code",
   "execution_count": 3,
   "metadata": {
    "id": "d16i_bcV1y-d"
   },
   "outputs": [],
   "source": [
    "#CNN Block with Dropout\n",
    "class CNNBlock(nn.Module):\n",
    "    def __init__(\n",
    "        self,\n",
    "        in_channels,\n",
    "        out_channels,\n",
    "        *,\n",
    "        expected_shape,\n",
    "        act=nn.GELU,\n",
    "        kernel_size=7,\n",
    "        dropout_prob=0.0 # Add a dropout probability\n",
    "    ):\n",
    "        super().__init__()\n",
    "\n",
    "        self.net = nn.Sequential(\n",
    "            nn.Conv2d(in_channels, out_channels, kernel_size, padding=kernel_size // 2),\n",
    "            nn.LayerNorm((out_channels, *expected_shape)),\n",
    "            act(),\n",
    "            nn.Dropout2d(dropout_prob)  # Add the spatial dropout layer\n",
    "        )\n",
    "\n",
    "    def forward(self, x):\n",
    "        return self.net(x)\n",
    "\n",
    "# CNN Model \n",
    "class CNN(nn.Module):\n",
    "    def __init__(\n",
    "        self,\n",
    "        in_channels,\n",
    "        expected_shape=(28, 28),\n",
    "        n_hidden=(64, 128, 64),\n",
    "        kernel_size=7,\n",
    "        last_kernel_size=3,\n",
    "        time_embeddings=16,\n",
    "        act=nn.GELU,\n",
    "    ) -> None:\n",
    "        super().__init__()\n",
    "        last = in_channels\n",
    "\n",
    "        self.blocks = nn.ModuleList()\n",
    "        for hidden in n_hidden:\n",
    "            self.blocks.append(\n",
    "                CNNBlock(\n",
    "                    last,\n",
    "                    hidden,\n",
    "                    expected_shape=expected_shape,\n",
    "                    kernel_size=kernel_size,\n",
    "                    act=act,\n",
    "                )\n",
    "            )\n",
    "            last = hidden\n",
    "\n",
    "        # The final layer, we use a regular Conv2d to get the\n",
    "        # correct scale and shape (and avoid applying the activation)\n",
    "        self.blocks.append(\n",
    "            nn.Conv2d(\n",
    "                last,\n",
    "                in_channels,\n",
    "                last_kernel_size,\n",
    "                padding=last_kernel_size // 2,\n",
    "            )\n",
    "        )\n",
    "\n",
    "        ## This part is literally just to put the single scalar \"t\" into the CNN\n",
    "        ## in a nice, high-dimensional way:\n",
    "        self.time_embed = nn.Sequential(\n",
    "            nn.Linear(time_embeddings * 2, 128), act(),\n",
    "            nn.Linear(128, 128), act(),\n",
    "            nn.Linear(128, 128), act(),\n",
    "            nn.Linear(128, n_hidden[0]),\n",
    "        )\n",
    "        frequencies = torch.tensor(\n",
    "            [0] + [2 * np.pi * 1.5**i for i in range(time_embeddings - 1)]\n",
    "        )\n",
    "        self.register_buffer(\"frequencies\", frequencies)\n",
    "\n",
    "    def time_encoding(self, t: torch.Tensor) -> torch.Tensor:\n",
    "        phases = torch.concat(\n",
    "            (\n",
    "                torch.sin(t[:, None] * self.frequencies[None, :]),\n",
    "                torch.cos(t[:, None] * self.frequencies[None, :]) - 1,\n",
    "            ),\n",
    "            dim=1,\n",
    "        )\n",
    "\n",
    "        return self.time_embed(phases)[:, :, None, None]\n",
    "\n",
    "    def forward(self, x: torch.Tensor, t: torch.Tensor) -> torch.Tensor:\n",
    "        # Shapes of input:\n",
    "        #    x: (batch, chan, height, width)\n",
    "        #    t: (batch,)\n",
    "\n",
    "        embed = self.blocks[0](x)\n",
    "        # ^ (batch, n_hidden[0], height, width)\n",
    "\n",
    "        # Add information about time along the diffusion process\n",
    "        #  (Providing this information by superimposing in latent space)\n",
    "        embed += self.time_encoding(t)\n",
    "        #         ^ (batch, n_hidden[0], 1, 1) - thus, broadcasting\n",
    "        #           to the entire spatial domain\n",
    "\n",
    "        for block in self.blocks[1:]:\n",
    "            embed = block(embed)\n",
    "\n",
    "        return embed"
   ]
  },
  {
   "cell_type": "markdown",
   "metadata": {},
   "source": [
    "### Diffusion Model"
   ]
  },
  {
   "cell_type": "code",
   "execution_count": 4,
   "metadata": {
    "id": "pCZe8Q651y-d"
   },
   "outputs": [],
   "source": [
    "class DDPM(nn.Module):\n",
    "    def __init__(\n",
    "        self,\n",
    "        gt,\n",
    "        betas: Tuple[float, float],\n",
    "        n_T: int,\n",
    "        criterion: nn.Module = nn.MSELoss(),\n",
    "    ) -> None:\n",
    "        super().__init__()\n",
    "\n",
    "        self.gt = gt\n",
    "        noise_schedule = cosine_scheduler(n_T, betas[0], betas[1]) # Generate the noise schedule\n",
    "        self.register_buffer(\"noise_levels\", noise_schedule)\n",
    "        self.noise_levels\n",
    "        self.n_T = n_T\n",
    "        self.criterion = criterion\n",
    "        \n",
    "    def forward(self, x: torch.Tensor) -> torch.Tensor:\n",
    "        # Sample a random time step t\n",
    "        t = torch.randint(0, self.n_T, (x.shape[0],), device=x.device)\n",
    "        # Get the noise density for the corresponding time step t\n",
    "        noise_t = self.noise_levels[t]\n",
    "        # Apply the impulse noise to the input image x\n",
    "        z_t = add_salt_and_pepper(x, noise_t)\n",
    "        # Let the CNN model predict the clean image at time step t\n",
    "        preds = self.gt(z_t, t / self.n_T)\n",
    "        return self.criterion(x, preds)\n",
    "    \n",
    "    def forward_show(self, t, x: torch.Tensor) -> torch.Tensor:\n",
    "        # Get the noise density for the corresponding time step t\n",
    "        noise_t = self.noise_levels[t]\n",
    "        # Apply the impulse noise to the input image x\n",
    "        z_t = add_salt_and_pepper(x, noise_t)\n",
    "        return z_t\n",
    "    \n",
    "    def sample(self, mnist_batch: torch.Tensor, n_sample: int, size, device) -> torch.Tensor:\n",
    "        # Degrade input images with the highest noise level\n",
    "        _one = torch.ones(n_sample, device=device)\n",
    "        x = mnist_batch[:n_sample].float().to(device)\n",
    "        z_t = add_salt_and_pepper(x, self.noise_levels[-1]).float().to(device)\n",
    "        # Ho et al. (2020), Denoising Diffusion Probabilistic Models, Algorithm 1 \n",
    "        for t in reversed(range(0, self.n_T)):\n",
    "            x_0_pred = self.gt(z_t, (t / self.n_T) * _one)\n",
    "            if t > 0:\n",
    "                noise_t_minus_1 = self.noise_levels[t - 1]\n",
    "                z_t = add_salt_and_pepper(x_0_pred, noise_t_minus_1)\n",
    "            else:\n",
    "                z_t = x_0_pred\n",
    "        return z_t"
   ]
  },
  {
   "cell_type": "markdown",
   "metadata": {},
   "source": [
    "### Hyperparameters"
   ]
  },
  {
   "cell_type": "code",
   "execution_count": 36,
   "metadata": {},
   "outputs": [
    {
     "data": {
      "image/png": "[encoded data removed]",
      "text/plain": [
       "<Figure size 550x400 with 1 Axes>"
      ]
     },
     "metadata": {},
     "output_type": "display_data"
    }
   ],
   "source": [
    "# CNN hyperparameters\n",
    "n_hidden = (32, 64, 128, 64, 32) \n",
    "activation = nn.GELU\n",
    "\n",
    "# DDPM hyperparameters\n",
    "betas = (0.05, 0.25) \n",
    "n_T =  150\n",
    "\n",
    "# Training hyperparameters\n",
    "learning_rate = 2e-4\n",
    "\n",
    "# Model and optimizer\n",
    "gt = CNN(in_channels=1, expected_shape=(28, 28), n_hidden=n_hidden, act=activation)\n",
    "ddpm = DDPM(gt=gt, betas=betas, n_T=n_T)\n",
    "optim = torch.optim.Adam(ddpm.parameters(), lr=learning_rate)\n",
    "\n",
    "# Plot cosine schedule and compare to linear schedule\n",
    "plt.plot(np.linspace(betas[0], betas[1], n_T), label='Linear schedule', linestyle = '-.', color='k')\n",
    "plt.plot(ddpm.noise_levels.cpu().numpy(), label='Cosine schedule', color=sd2022_green)\n",
    "plt.xlabel('t')\n",
    "plt.ylabel(r'$\\rho_t$')\n",
    "plt.legend()\n",
    "plt.show()"
   ]
  },
  {
   "cell_type": "markdown",
   "metadata": {},
   "source": [
    "## MNIST Data"
   ]
  },
  {
   "cell_type": "markdown",
   "metadata": {},
   "source": [
    "### Training and Validation Data Loader"
   ]
  },
  {
   "cell_type": "code",
   "execution_count": 6,
   "metadata": {
    "id": "a6jMrCRa1y-d"
   },
   "outputs": [],
   "source": [
    "# Data loaders\n",
    "tf = transforms.Compose([transforms.ToTensor(), transforms.Normalize((0.5,), (1.0))])\n",
    "dataset = MNIST(\"../data\", train=True, download=True, transform=tf)\n",
    "dataloader = DataLoader(dataset, batch_size=128, shuffle=True, num_workers=4, drop_last=True)\n",
    "\n",
    "# Define the sizes for training and validation sets\n",
    "train_size = int(0.8 * len(dataset))\n",
    "validation_size = len(dataset) - train_size\n",
    "\n",
    "# Perform the split\n",
    "train_dataset, validation_dataset = random_split(dataset, [train_size, validation_size])\n",
    "\n",
    "# Create DataLoader for the training dataset\n",
    "train_dataloader = DataLoader(train_dataset, batch_size=128, shuffle=True, num_workers=4, drop_last=True)\n",
    "\n",
    "# Create DataLoader for the validation dataset\n",
    "validation_dataloader = DataLoader(validation_dataset, batch_size=128, shuffle=False, num_workers=4)\n"
   ]
  },
  {
   "cell_type": "markdown",
   "metadata": {},
   "source": [
    "## Training and Sampling"
   ]
  },
  {
   "cell_type": "markdown",
   "metadata": {},
   "source": [
    "### Device Placement"
   ]
  },
  {
   "cell_type": "code",
   "execution_count": 7,
   "metadata": {},
   "outputs": [],
   "source": [
    "# Define model and optimizer\n",
    "gt = CNN(in_channels=1, expected_shape=(28, 28), n_hidden=n_hidden, act=activation)\n",
    "ddpm = DDPM(gt=gt, betas=betas, n_T=n_T)\n",
    "optim = torch.optim.Adam(ddpm.parameters(), lr=learning_rate)\n",
    "\n",
    "# Define accelerator\n",
    "accelerator = Accelerator()\n",
    "\n",
    "# Wrap the model, optimizer, and data loaders\n",
    "ddpm, optim, train_dataloader, validation_dataloader = accelerator.prepare(\n",
    "    ddpm, optim, train_dataloader, validation_dataloader)"
   ]
  },
  {
   "cell_type": "markdown",
   "metadata": {},
   "source": [
    "### Test"
   ]
  },
  {
   "cell_type": "code",
   "execution_count": 37,
   "metadata": {
    "id": "8wxKbzEa1y-e"
   },
   "outputs": [
    {
     "ename": "RuntimeError",
     "evalue": "Expected all tensors to be on the same device, but found at least two devices, mps:0 and cpu!",
     "output_type": "error",
     "traceback": [
      "\u001b[0;31m---------------------------------------------------------------------------\u001b[0m",
      "\u001b[0;31mRuntimeError\u001b[0m                              Traceback (most recent call last)",
      "Cell \u001b[0;32mIn[37], line 11\u001b[0m\n\u001b[1;32m      9\u001b[0m noisy_images \u001b[38;5;241m=\u001b[39m []\n\u001b[1;32m     10\u001b[0m \u001b[38;5;28;01mfor\u001b[39;00m t \u001b[38;5;129;01min\u001b[39;00m t_list:\n\u001b[0;32m---> 11\u001b[0m     noisy_image \u001b[38;5;241m=\u001b[39m \u001b[43mddpm\u001b[49m\u001b[38;5;241;43m.\u001b[39;49m\u001b[43mforward_show\u001b[49m\u001b[43m(\u001b[49m\u001b[43mt\u001b[49m\u001b[43m,\u001b[49m\u001b[43m \u001b[49m\u001b[43mx_first\u001b[49m\u001b[43m)\u001b[49m\n\u001b[1;32m     12\u001b[0m     noisy_images\u001b[38;5;241m.\u001b[39mappend(noisy_image)\n\u001b[1;32m     13\u001b[0m     \u001b[38;5;28mprint\u001b[39m(\u001b[38;5;124mf\u001b[39m\u001b[38;5;124m\"\u001b[39m\u001b[38;5;124mt=\u001b[39m\u001b[38;5;132;01m{\u001b[39;00mt\u001b[38;5;132;01m}\u001b[39;00m\u001b[38;5;124m -> rho_t=\u001b[39m\u001b[38;5;132;01m{\u001b[39;00mddpm\u001b[38;5;241m.\u001b[39mnoise_levels[t]\u001b[38;5;132;01m}\u001b[39;00m\u001b[38;5;124m\"\u001b[39m)\n",
      "Cell \u001b[0;32mIn[4], line 33\u001b[0m, in \u001b[0;36mDDPM.forward_show\u001b[0;34m(self, t, x)\u001b[0m\n\u001b[1;32m     31\u001b[0m noise_t \u001b[38;5;241m=\u001b[39m \u001b[38;5;28mself\u001b[39m\u001b[38;5;241m.\u001b[39mnoise_levels[t]\n\u001b[1;32m     32\u001b[0m \u001b[38;5;66;03m# Apply the impulse noise to the input image x\u001b[39;00m\n\u001b[0;32m---> 33\u001b[0m z_t \u001b[38;5;241m=\u001b[39m \u001b[43madd_salt_and_pepper\u001b[49m\u001b[43m(\u001b[49m\u001b[43mx\u001b[49m\u001b[43m,\u001b[49m\u001b[43m \u001b[49m\u001b[43mnoise_t\u001b[49m\u001b[43m)\u001b[49m\n\u001b[1;32m     34\u001b[0m \u001b[38;5;28;01mreturn\u001b[39;00m z_t\n",
      "Cell \u001b[0;32mIn[2], line 24\u001b[0m, in \u001b[0;36madd_salt_and_pepper\u001b[0;34m(image, noise_density)\u001b[0m\n\u001b[1;32m     22\u001b[0m random_image \u001b[38;5;241m=\u001b[39m torch\u001b[38;5;241m.\u001b[39mrand_like(image)\n\u001b[1;32m     23\u001b[0m \u001b[38;5;66;03m# Create the salt and pepper masks\u001b[39;00m\n\u001b[0;32m---> 24\u001b[0m salt_mask \u001b[38;5;241m=\u001b[39m (\u001b[43mrandom_image\u001b[49m\u001b[43m \u001b[49m\u001b[38;5;241;43m<\u001b[39;49m\u001b[38;5;241;43m=\u001b[39;49m\u001b[43m \u001b[49m\u001b[43mnoise_density\u001b[49m)\n\u001b[1;32m     25\u001b[0m pepper_mask \u001b[38;5;241m=\u001b[39m (random_image \u001b[38;5;241m>\u001b[39m \u001b[38;5;241m1\u001b[39m \u001b[38;5;241m-\u001b[39m noise_density)\n\u001b[1;32m     26\u001b[0m \u001b[38;5;66;03m# Apply the masks to the image\u001b[39;00m\n",
      "\u001b[0;31mRuntimeError\u001b[0m: Expected all tensors to be on the same device, but found at least two devices, mps:0 and cpu!"
     ]
    }
   ],
   "source": [
    "# Test\n",
    "for x, _ in train_dataloader:\n",
    "    break\n",
    "\n",
    "# Plot degradation process for an example image\n",
    "with torch.no_grad():\n",
    "    x_first = x[0].unsqueeze(0)\n",
    "    t_list = [0,25,50,75,100,125,149]\n",
    "    noisy_images = []\n",
    "    for t in t_list:\n",
    "        noisy_image = ddpm.forward_show(t, x_first)\n",
    "        noisy_images.append(noisy_image)\n",
    "        print(f\"t={t} -> rho_t={ddpm.noise_levels[t]}\")\n",
    "    noisy_images_tensor = torch.cat(noisy_images, dim=0)\n",
    "    noisy_images_tensor = noisy_images_tensor.to(x.device)\n",
    "    noisy_images_grid = make_grid(noisy_images_tensor, nrow=len(t_list), padding=2, normalize=True)\n",
    "    plt.figure(figsize=(20, 20))\n",
    "    plt.axis(\"off\")\n",
    "    plt.imshow(noisy_images_grid.permute(1, 2, 0).cpu())\n",
    "    plt.show()"
   ]
  },
  {
   "cell_type": "markdown",
   "metadata": {},
   "source": [
    "## Training Loop"
   ]
  },
  {
   "cell_type": "code",
   "execution_count": 9,
   "metadata": {},
   "outputs": [
    {
     "name": "stdout",
     "output_type": "stream",
     "text": [
      "Epoch 1/75\n"
     ]
    },
    {
     "name": "stderr",
     "output_type": "stream",
     "text": [
      "Training loss: 0.0244: 100%|██████████| 375/375 [02:27<00:00,  2.54it/s]\n",
      "Validation loss: 0.0138: 100%|██████████| 94/94 [00:24<00:00,  3.82it/s]\n"
     ]
    },
    {
     "name": "stdout",
     "output_type": "stream",
     "text": [
      "Epoch 2/75\n"
     ]
    },
    {
     "name": "stderr",
     "output_type": "stream",
     "text": [
      "Training loss: 0.0128: 100%|██████████| 375/375 [02:24<00:00,  2.59it/s]\n",
      "Validation loss: 0.0124: 100%|██████████| 94/94 [00:21<00:00,  4.28it/s]\n"
     ]
    },
    {
     "name": "stdout",
     "output_type": "stream",
     "text": [
      "Epoch 3/75\n"
     ]
    },
    {
     "name": "stderr",
     "output_type": "stream",
     "text": [
      "Training loss: 0.0114: 100%|██████████| 375/375 [02:17<00:00,  2.73it/s]\n",
      "Validation loss: 0.0107: 100%|██████████| 94/94 [00:23<00:00,  3.93it/s]\n"
     ]
    },
    {
     "name": "stdout",
     "output_type": "stream",
     "text": [
      "Epoch 4/75\n"
     ]
    },
    {
     "name": "stderr",
     "output_type": "stream",
     "text": [
      "Training loss: 0.01: 100%|██████████| 375/375 [02:15<00:00,  2.76it/s]  \n",
      "Validation loss: 0.00896: 100%|██████████| 94/94 [00:21<00:00,  4.40it/s]\n"
     ]
    },
    {
     "name": "stdout",
     "output_type": "stream",
     "text": [
      "Epoch 5/75\n"
     ]
    },
    {
     "name": "stderr",
     "output_type": "stream",
     "text": [
      "Training loss: 0.00769: 100%|██████████| 375/375 [02:15<00:00,  2.77it/s]\n",
      "Validation loss: 0.00679: 100%|██████████| 94/94 [00:22<00:00,  4.15it/s]\n"
     ]
    },
    {
     "name": "stdout",
     "output_type": "stream",
     "text": [
      "Epoch 6/75\n"
     ]
    },
    {
     "name": "stderr",
     "output_type": "stream",
     "text": [
      "Training loss: 0.00628: 100%|██████████| 375/375 [02:16<00:00,  2.75it/s]\n",
      "Validation loss: 0.00569: 100%|██████████| 94/94 [00:22<00:00,  4.12it/s]\n"
     ]
    },
    {
     "name": "stdout",
     "output_type": "stream",
     "text": [
      "Epoch 7/75\n"
     ]
    },
    {
     "name": "stderr",
     "output_type": "stream",
     "text": [
      "Training loss: 0.00539: 100%|██████████| 375/375 [02:17<00:00,  2.73it/s]\n",
      "Validation loss: 0.00513: 100%|██████████| 94/94 [00:23<00:00,  4.04it/s]\n"
     ]
    },
    {
     "name": "stdout",
     "output_type": "stream",
     "text": [
      "Epoch 8/75\n"
     ]
    },
    {
     "name": "stderr",
     "output_type": "stream",
     "text": [
      "Training loss: 0.00475: 100%|██████████| 375/375 [02:20<00:00,  2.68it/s]\n",
      "Validation loss: 0.00447: 100%|██████████| 94/94 [00:22<00:00,  4.22it/s]\n"
     ]
    },
    {
     "name": "stdout",
     "output_type": "stream",
     "text": [
      "Epoch 9/75\n"
     ]
    },
    {
     "name": "stderr",
     "output_type": "stream",
     "text": [
      "Training loss: 0.00425: 100%|██████████| 375/375 [02:15<00:00,  2.78it/s]\n",
      "Validation loss: 0.00403: 100%|██████████| 94/94 [00:22<00:00,  4.14it/s]\n"
     ]
    },
    {
     "name": "stdout",
     "output_type": "stream",
     "text": [
      "Epoch 10/75\n"
     ]
    },
    {
     "name": "stderr",
     "output_type": "stream",
     "text": [
      "Training loss: 0.00385: 100%|██████████| 375/375 [02:14<00:00,  2.78it/s]\n",
      "Validation loss: 0.00375: 100%|██████████| 94/94 [00:22<00:00,  4.27it/s]\n"
     ]
    },
    {
     "name": "stdout",
     "output_type": "stream",
     "text": [
      "Epoch 11/75\n"
     ]
    },
    {
     "name": "stderr",
     "output_type": "stream",
     "text": [
      "Training loss: 0.00352: 100%|██████████| 375/375 [02:15<00:00,  2.76it/s]\n",
      "Validation loss: 0.00335: 100%|██████████| 94/94 [00:22<00:00,  4.24it/s]\n"
     ]
    },
    {
     "name": "stdout",
     "output_type": "stream",
     "text": [
      "Epoch 12/75\n"
     ]
    },
    {
     "name": "stderr",
     "output_type": "stream",
     "text": [
      "Training loss: 0.00332: 100%|██████████| 375/375 [02:11<00:00,  2.84it/s]\n",
      "Validation loss: 0.0032: 100%|██████████| 94/94 [00:22<00:00,  4.23it/s] \n"
     ]
    },
    {
     "name": "stdout",
     "output_type": "stream",
     "text": [
      "Epoch 13/75\n"
     ]
    },
    {
     "name": "stderr",
     "output_type": "stream",
     "text": [
      "Training loss: 0.00312: 100%|██████████| 375/375 [02:13<00:00,  2.80it/s]\n",
      "Validation loss: 0.00307: 100%|██████████| 94/94 [00:22<00:00,  4.17it/s]\n"
     ]
    },
    {
     "name": "stdout",
     "output_type": "stream",
     "text": [
      "Epoch 14/75\n"
     ]
    },
    {
     "name": "stderr",
     "output_type": "stream",
     "text": [
      "Training loss: 0.00294: 100%|██████████| 375/375 [02:16<00:00,  2.76it/s]\n",
      "Validation loss: 0.00305: 100%|██████████| 94/94 [00:22<00:00,  4.16it/s]\n"
     ]
    },
    {
     "name": "stdout",
     "output_type": "stream",
     "text": [
      "Epoch 15/75\n"
     ]
    },
    {
     "name": "stderr",
     "output_type": "stream",
     "text": [
      "Training loss: 0.00282: 100%|██████████| 375/375 [02:15<00:00,  2.78it/s]\n",
      "Validation loss: 0.00273: 100%|██████████| 94/94 [00:22<00:00,  4.17it/s]\n"
     ]
    },
    {
     "name": "stdout",
     "output_type": "stream",
     "text": [
      "Epoch 16/75\n"
     ]
    },
    {
     "name": "stderr",
     "output_type": "stream",
     "text": [
      "Training loss: 0.00269: 100%|██████████| 375/375 [02:16<00:00,  2.76it/s]\n",
      "Validation loss: 0.00272: 100%|██████████| 94/94 [00:22<00:00,  4.20it/s]\n"
     ]
    },
    {
     "name": "stdout",
     "output_type": "stream",
     "text": [
      "Epoch 17/75\n"
     ]
    },
    {
     "name": "stderr",
     "output_type": "stream",
     "text": [
      "Training loss: 0.00262: 100%|██████████| 375/375 [02:15<00:00,  2.77it/s]\n",
      "Validation loss: 0.00263: 100%|██████████| 94/94 [00:22<00:00,  4.22it/s]\n"
     ]
    },
    {
     "name": "stdout",
     "output_type": "stream",
     "text": [
      "Epoch 18/75\n"
     ]
    },
    {
     "name": "stderr",
     "output_type": "stream",
     "text": [
      "Training loss: 0.0025: 100%|██████████| 375/375 [02:13<00:00,  2.81it/s] \n",
      "Validation loss: 0.00244: 100%|██████████| 94/94 [00:22<00:00,  4.22it/s]\n"
     ]
    },
    {
     "name": "stdout",
     "output_type": "stream",
     "text": [
      "Epoch 19/75\n"
     ]
    },
    {
     "name": "stderr",
     "output_type": "stream",
     "text": [
      "Training loss: 0.00243: 100%|██████████| 375/375 [02:16<00:00,  2.75it/s]\n",
      "Validation loss: 0.00247: 100%|██████████| 94/94 [00:21<00:00,  4.31it/s]\n"
     ]
    },
    {
     "name": "stdout",
     "output_type": "stream",
     "text": [
      "Epoch 20/75\n"
     ]
    },
    {
     "name": "stderr",
     "output_type": "stream",
     "text": [
      "Training loss: 0.00236: 100%|██████████| 375/375 [02:18<00:00,  2.72it/s]\n",
      "Validation loss: 0.00233: 100%|██████████| 94/94 [00:22<00:00,  4.17it/s]\n"
     ]
    },
    {
     "name": "stdout",
     "output_type": "stream",
     "text": [
      "Epoch 21/75\n"
     ]
    },
    {
     "name": "stderr",
     "output_type": "stream",
     "text": [
      "Training loss: 0.00231: 100%|██████████| 375/375 [02:17<00:00,  2.72it/s]\n",
      "Validation loss: 0.00226: 100%|██████████| 94/94 [00:23<00:00,  4.07it/s]\n"
     ]
    },
    {
     "name": "stdout",
     "output_type": "stream",
     "text": [
      "Epoch 22/75\n"
     ]
    },
    {
     "name": "stderr",
     "output_type": "stream",
     "text": [
      "Training loss: 0.00226: 100%|██████████| 375/375 [02:14<00:00,  2.78it/s]\n",
      "Validation loss: 0.00225: 100%|██████████| 94/94 [00:22<00:00,  4.20it/s]\n"
     ]
    },
    {
     "name": "stdout",
     "output_type": "stream",
     "text": [
      "Epoch 23/75\n"
     ]
    },
    {
     "name": "stderr",
     "output_type": "stream",
     "text": [
      "Training loss: 0.00222: 100%|██████████| 375/375 [02:14<00:00,  2.79it/s]\n",
      "Validation loss: 0.00221: 100%|██████████| 94/94 [00:22<00:00,  4.27it/s]\n"
     ]
    },
    {
     "name": "stdout",
     "output_type": "stream",
     "text": [
      "Epoch 24/75\n"
     ]
    },
    {
     "name": "stderr",
     "output_type": "stream",
     "text": [
      "Training loss: 0.00217: 100%|██████████| 375/375 [01:59<00:00,  3.13it/s]\n",
      "Validation loss: 0.00219: 100%|██████████| 94/94 [00:17<00:00,  5.30it/s]\n"
     ]
    },
    {
     "name": "stdout",
     "output_type": "stream",
     "text": [
      "Epoch 25/75\n"
     ]
    },
    {
     "name": "stderr",
     "output_type": "stream",
     "text": [
      "Training loss: 0.00214: 100%|██████████| 375/375 [01:57<00:00,  3.18it/s]\n",
      "Validation loss: 0.00218: 100%|██████████| 94/94 [00:18<00:00,  5.20it/s]\n"
     ]
    },
    {
     "name": "stdout",
     "output_type": "stream",
     "text": [
      "Epoch 26/75\n"
     ]
    },
    {
     "name": "stderr",
     "output_type": "stream",
     "text": [
      "Training loss: 0.00209: 100%|██████████| 375/375 [01:59<00:00,  3.13it/s]\n",
      "Validation loss: 0.00213: 100%|██████████| 94/94 [00:18<00:00,  5.17it/s]\n"
     ]
    },
    {
     "name": "stdout",
     "output_type": "stream",
     "text": [
      "Epoch 27/75\n"
     ]
    },
    {
     "name": "stderr",
     "output_type": "stream",
     "text": [
      "Training loss: 0.00207: 100%|██████████| 375/375 [02:01<00:00,  3.08it/s]\n",
      "Validation loss: 0.00208: 100%|██████████| 94/94 [00:18<00:00,  5.11it/s]\n"
     ]
    },
    {
     "name": "stdout",
     "output_type": "stream",
     "text": [
      "Epoch 28/75\n"
     ]
    },
    {
     "name": "stderr",
     "output_type": "stream",
     "text": [
      "Training loss: 0.00203: 100%|██████████| 375/375 [01:59<00:00,  3.13it/s]\n",
      "Validation loss: 0.00211: 100%|██████████| 94/94 [00:18<00:00,  5.22it/s]\n"
     ]
    },
    {
     "name": "stdout",
     "output_type": "stream",
     "text": [
      "Epoch 29/75\n"
     ]
    },
    {
     "name": "stderr",
     "output_type": "stream",
     "text": [
      "Training loss: 0.00201: 100%|██████████| 375/375 [01:59<00:00,  3.15it/s]\n",
      "Validation loss: 0.00206: 100%|██████████| 94/94 [00:18<00:00,  5.17it/s]\n"
     ]
    },
    {
     "name": "stdout",
     "output_type": "stream",
     "text": [
      "Epoch 30/75\n"
     ]
    },
    {
     "name": "stderr",
     "output_type": "stream",
     "text": [
      "Training loss: 0.00199: 100%|██████████| 375/375 [01:59<00:00,  3.14it/s]\n",
      "Validation loss: 0.00201: 100%|██████████| 94/94 [00:17<00:00,  5.28it/s]\n"
     ]
    },
    {
     "name": "stdout",
     "output_type": "stream",
     "text": [
      "Epoch 31/75\n"
     ]
    },
    {
     "name": "stderr",
     "output_type": "stream",
     "text": [
      "Training loss: 0.00198: 100%|██████████| 375/375 [01:58<00:00,  3.17it/s]\n",
      "Validation loss: 0.00199: 100%|██████████| 94/94 [00:17<00:00,  5.29it/s]\n"
     ]
    },
    {
     "name": "stdout",
     "output_type": "stream",
     "text": [
      "Epoch 32/75\n"
     ]
    },
    {
     "name": "stderr",
     "output_type": "stream",
     "text": [
      "Training loss: 0.00194: 100%|██████████| 375/375 [01:55<00:00,  3.23it/s]\n",
      "Validation loss: 0.00192: 100%|██████████| 94/94 [00:17<00:00,  5.25it/s]\n"
     ]
    },
    {
     "name": "stdout",
     "output_type": "stream",
     "text": [
      "Epoch 33/75\n"
     ]
    },
    {
     "name": "stderr",
     "output_type": "stream",
     "text": [
      "Training loss: 0.00194: 100%|██████████| 375/375 [01:58<00:00,  3.18it/s]\n",
      "Validation loss: 0.00195: 100%|██████████| 94/94 [00:18<00:00,  5.13it/s]\n"
     ]
    },
    {
     "name": "stdout",
     "output_type": "stream",
     "text": [
      "Epoch 34/75\n"
     ]
    },
    {
     "name": "stderr",
     "output_type": "stream",
     "text": [
      "Training loss: 0.0019: 100%|██████████| 375/375 [01:57<00:00,  3.20it/s] \n",
      "Validation loss: 0.00189: 100%|██████████| 94/94 [00:18<00:00,  5.17it/s]\n"
     ]
    },
    {
     "name": "stdout",
     "output_type": "stream",
     "text": [
      "Epoch 35/75\n"
     ]
    },
    {
     "name": "stderr",
     "output_type": "stream",
     "text": [
      "Training loss: 0.00189: 100%|██████████| 375/375 [02:07<00:00,  2.94it/s]\n",
      "Validation loss: 0.00192: 100%|██████████| 94/94 [00:22<00:00,  4.21it/s]\n"
     ]
    },
    {
     "name": "stdout",
     "output_type": "stream",
     "text": [
      "Epoch 36/75\n"
     ]
    },
    {
     "name": "stderr",
     "output_type": "stream",
     "text": [
      "Training loss: 0.00189: 100%|██████████| 375/375 [02:14<00:00,  2.79it/s]\n",
      "Validation loss: 0.00195: 100%|██████████| 94/94 [00:21<00:00,  4.33it/s]\n"
     ]
    },
    {
     "name": "stdout",
     "output_type": "stream",
     "text": [
      "Epoch 37/75\n"
     ]
    },
    {
     "name": "stderr",
     "output_type": "stream",
     "text": [
      "Training loss: 0.00186: 100%|██████████| 375/375 [02:14<00:00,  2.80it/s]\n",
      "Validation loss: 0.0019: 100%|██████████| 94/94 [00:23<00:00,  3.99it/s] \n"
     ]
    },
    {
     "name": "stdout",
     "output_type": "stream",
     "text": [
      "Epoch 38/75\n"
     ]
    },
    {
     "name": "stderr",
     "output_type": "stream",
     "text": [
      "Training loss: 0.00185: 100%|██████████| 375/375 [02:13<00:00,  2.82it/s]\n",
      "Validation loss: 0.00185: 100%|██████████| 94/94 [00:21<00:00,  4.31it/s]\n"
     ]
    },
    {
     "name": "stdout",
     "output_type": "stream",
     "text": [
      "Epoch 39/75\n"
     ]
    },
    {
     "name": "stderr",
     "output_type": "stream",
     "text": [
      "Training loss: 0.00184: 100%|██████████| 375/375 [02:14<00:00,  2.78it/s]\n",
      "Validation loss: 0.00184: 100%|██████████| 94/94 [00:21<00:00,  4.38it/s]\n"
     ]
    },
    {
     "name": "stdout",
     "output_type": "stream",
     "text": [
      "Epoch 40/75\n"
     ]
    },
    {
     "name": "stderr",
     "output_type": "stream",
     "text": [
      "Training loss: 0.00181: 100%|██████████| 375/375 [02:14<00:00,  2.80it/s]\n",
      "Validation loss: 0.00185: 100%|██████████| 94/94 [00:21<00:00,  4.31it/s]\n"
     ]
    },
    {
     "name": "stdout",
     "output_type": "stream",
     "text": [
      "Epoch 41/75\n"
     ]
    },
    {
     "name": "stderr",
     "output_type": "stream",
     "text": [
      "Training loss: 0.0018: 100%|██████████| 375/375 [02:15<00:00,  2.77it/s] \n",
      "Validation loss: 0.00185: 100%|██████████| 94/94 [00:22<00:00,  4.11it/s]\n"
     ]
    },
    {
     "name": "stdout",
     "output_type": "stream",
     "text": [
      "Epoch 42/75\n"
     ]
    },
    {
     "name": "stderr",
     "output_type": "stream",
     "text": [
      "Training loss: 0.00182: 100%|██████████| 375/375 [02:14<00:00,  2.79it/s]\n",
      "Validation loss: 0.00179: 100%|██████████| 94/94 [00:22<00:00,  4.25it/s]\n"
     ]
    },
    {
     "name": "stdout",
     "output_type": "stream",
     "text": [
      "Epoch 43/75\n"
     ]
    },
    {
     "name": "stderr",
     "output_type": "stream",
     "text": [
      "Training loss: 0.0018: 100%|██████████| 375/375 [02:12<00:00,  2.82it/s] \n",
      "Validation loss: 0.00182: 100%|██████████| 94/94 [00:22<00:00,  4.23it/s]\n"
     ]
    },
    {
     "name": "stdout",
     "output_type": "stream",
     "text": [
      "Epoch 44/75\n"
     ]
    },
    {
     "name": "stderr",
     "output_type": "stream",
     "text": [
      "Training loss: 0.00176: 100%|██████████| 375/375 [02:13<00:00,  2.80it/s]\n",
      "Validation loss: 0.00174: 100%|██████████| 94/94 [00:22<00:00,  4.15it/s]\n"
     ]
    },
    {
     "name": "stdout",
     "output_type": "stream",
     "text": [
      "Epoch 45/75\n"
     ]
    },
    {
     "name": "stderr",
     "output_type": "stream",
     "text": [
      "Training loss: 0.00176: 100%|██████████| 375/375 [02:14<00:00,  2.79it/s]\n",
      "Validation loss: 0.00177: 100%|██████████| 94/94 [00:21<00:00,  4.34it/s]\n"
     ]
    },
    {
     "name": "stdout",
     "output_type": "stream",
     "text": [
      "Epoch 46/75\n"
     ]
    },
    {
     "name": "stderr",
     "output_type": "stream",
     "text": [
      "Training loss: 0.00175: 100%|██████████| 375/375 [02:14<00:00,  2.79it/s]\n",
      "Validation loss: 0.00175: 100%|██████████| 94/94 [00:21<00:00,  4.37it/s]\n"
     ]
    },
    {
     "name": "stdout",
     "output_type": "stream",
     "text": [
      "Epoch 47/75\n"
     ]
    },
    {
     "name": "stderr",
     "output_type": "stream",
     "text": [
      "Training loss: 0.00174: 100%|██████████| 375/375 [02:16<00:00,  2.74it/s]\n",
      "Validation loss: 0.00177: 100%|██████████| 94/94 [00:20<00:00,  4.55it/s]\n"
     ]
    },
    {
     "name": "stdout",
     "output_type": "stream",
     "text": [
      "Epoch 48/75\n"
     ]
    },
    {
     "name": "stderr",
     "output_type": "stream",
     "text": [
      "Training loss: 0.00174: 100%|██████████| 375/375 [01:59<00:00,  3.14it/s]\n",
      "Validation loss: 0.00175: 100%|██████████| 94/94 [00:18<00:00,  5.13it/s]\n"
     ]
    },
    {
     "name": "stdout",
     "output_type": "stream",
     "text": [
      "Epoch 49/75\n"
     ]
    },
    {
     "name": "stderr",
     "output_type": "stream",
     "text": [
      "Training loss: 0.00173: 100%|██████████| 375/375 [01:57<00:00,  3.19it/s]\n",
      "Validation loss: 0.00176: 100%|██████████| 94/94 [00:17<00:00,  5.33it/s]\n"
     ]
    },
    {
     "name": "stdout",
     "output_type": "stream",
     "text": [
      "Epoch 50/75\n"
     ]
    },
    {
     "name": "stderr",
     "output_type": "stream",
     "text": [
      "Training loss: 0.00174: 100%|██████████| 375/375 [01:57<00:00,  3.19it/s]\n",
      "Validation loss: 0.00172: 100%|██████████| 94/94 [00:18<00:00,  5.00it/s]\n"
     ]
    },
    {
     "name": "stdout",
     "output_type": "stream",
     "text": [
      "Epoch 51/75\n"
     ]
    },
    {
     "name": "stderr",
     "output_type": "stream",
     "text": [
      "Training loss: 0.00173: 100%|██████████| 375/375 [01:57<00:00,  3.20it/s]\n",
      "Validation loss: 0.00181: 100%|██████████| 94/94 [00:17<00:00,  5.24it/s]\n"
     ]
    },
    {
     "name": "stdout",
     "output_type": "stream",
     "text": [
      "Epoch 52/75\n"
     ]
    },
    {
     "name": "stderr",
     "output_type": "stream",
     "text": [
      "Training loss: 0.0017: 100%|██████████| 375/375 [01:57<00:00,  3.19it/s] \n",
      "Validation loss: 0.00171: 100%|██████████| 94/94 [00:17<00:00,  5.27it/s]\n"
     ]
    },
    {
     "name": "stdout",
     "output_type": "stream",
     "text": [
      "Epoch 53/75\n"
     ]
    },
    {
     "name": "stderr",
     "output_type": "stream",
     "text": [
      "Training loss: 0.0017: 100%|██████████| 375/375 [01:57<00:00,  3.19it/s] \n",
      "Validation loss: 0.00172: 100%|██████████| 94/94 [00:18<00:00,  5.20it/s]\n"
     ]
    },
    {
     "name": "stdout",
     "output_type": "stream",
     "text": [
      "Epoch 54/75\n"
     ]
    },
    {
     "name": "stderr",
     "output_type": "stream",
     "text": [
      "Training loss: 0.0017: 100%|██████████| 375/375 [01:58<00:00,  3.17it/s] \n",
      "Validation loss: 0.00169: 100%|██████████| 94/94 [00:17<00:00,  5.25it/s]\n"
     ]
    },
    {
     "name": "stdout",
     "output_type": "stream",
     "text": [
      "Epoch 55/75\n"
     ]
    },
    {
     "name": "stderr",
     "output_type": "stream",
     "text": [
      "Training loss: 0.00168: 100%|██████████| 375/375 [01:59<00:00,  3.13it/s]\n",
      "Validation loss: 0.00175: 100%|██████████| 94/94 [00:18<00:00,  5.17it/s]\n"
     ]
    },
    {
     "name": "stdout",
     "output_type": "stream",
     "text": [
      "Epoch 56/75\n"
     ]
    },
    {
     "name": "stderr",
     "output_type": "stream",
     "text": [
      "Training loss: 0.00167: 100%|██████████| 375/375 [02:09<00:00,  2.89it/s]\n",
      "Validation loss: 0.00171: 100%|██████████| 94/94 [00:18<00:00,  5.06it/s]\n"
     ]
    },
    {
     "name": "stdout",
     "output_type": "stream",
     "text": [
      "Epoch 57/75\n"
     ]
    },
    {
     "name": "stderr",
     "output_type": "stream",
     "text": [
      "Training loss: 0.00168: 100%|██████████| 375/375 [02:16<00:00,  2.75it/s]\n",
      "Validation loss: 0.00166: 100%|██████████| 94/94 [00:17<00:00,  5.34it/s]\n"
     ]
    },
    {
     "name": "stdout",
     "output_type": "stream",
     "text": [
      "Epoch 58/75\n"
     ]
    },
    {
     "name": "stderr",
     "output_type": "stream",
     "text": [
      "Training loss: 0.00165: 100%|██████████| 375/375 [02:06<00:00,  2.96it/s]\n",
      "Validation loss: 0.00166: 100%|██████████| 94/94 [00:17<00:00,  5.30it/s]\n"
     ]
    },
    {
     "name": "stdout",
     "output_type": "stream",
     "text": [
      "Epoch 59/75\n"
     ]
    },
    {
     "name": "stderr",
     "output_type": "stream",
     "text": [
      "Training loss: 0.00167: 100%|██████████| 375/375 [03:07<00:00,  2.00it/s]\n",
      "Validation loss: 0.00172: 100%|██████████| 94/94 [00:35<00:00,  2.68it/s]\n"
     ]
    },
    {
     "name": "stdout",
     "output_type": "stream",
     "text": [
      "Epoch 60/75\n"
     ]
    },
    {
     "name": "stderr",
     "output_type": "stream",
     "text": [
      "Training loss: 0.00166: 100%|██████████| 375/375 [03:46<00:00,  1.66it/s]\n",
      "Validation loss: 0.00167: 100%|██████████| 94/94 [00:19<00:00,  4.76it/s]\n"
     ]
    },
    {
     "name": "stdout",
     "output_type": "stream",
     "text": [
      "Epoch 61/75\n"
     ]
    },
    {
     "name": "stderr",
     "output_type": "stream",
     "text": [
      "Training loss: 0.00167: 100%|██████████| 375/375 [02:15<00:00,  2.77it/s]\n",
      "Validation loss: 0.00167: 100%|██████████| 94/94 [00:18<00:00,  5.18it/s]\n"
     ]
    },
    {
     "name": "stdout",
     "output_type": "stream",
     "text": [
      "Epoch 62/75\n"
     ]
    },
    {
     "name": "stderr",
     "output_type": "stream",
     "text": [
      "Training loss: 0.00163: 100%|██████████| 375/375 [02:05<00:00,  2.99it/s]\n",
      "Validation loss: 0.00167: 100%|██████████| 94/94 [00:18<00:00,  5.05it/s]\n"
     ]
    },
    {
     "name": "stdout",
     "output_type": "stream",
     "text": [
      "Epoch 63/75\n"
     ]
    },
    {
     "name": "stderr",
     "output_type": "stream",
     "text": [
      "Training loss: 0.00164: 100%|██████████| 375/375 [02:04<00:00,  3.01it/s]\n",
      "Validation loss: 0.00165: 100%|██████████| 94/94 [00:17<00:00,  5.24it/s]\n"
     ]
    },
    {
     "name": "stdout",
     "output_type": "stream",
     "text": [
      "Epoch 64/75\n"
     ]
    },
    {
     "name": "stderr",
     "output_type": "stream",
     "text": [
      "Training loss: 0.00162: 100%|██████████| 375/375 [01:58<00:00,  3.15it/s]\n",
      "Validation loss: 0.00167: 100%|██████████| 94/94 [00:18<00:00,  5.12it/s]\n"
     ]
    },
    {
     "name": "stdout",
     "output_type": "stream",
     "text": [
      "Epoch 65/75\n"
     ]
    },
    {
     "name": "stderr",
     "output_type": "stream",
     "text": [
      "Training loss: 0.00163: 100%|██████████| 375/375 [02:04<00:00,  3.01it/s]\n",
      "Validation loss: 0.00167: 100%|██████████| 94/94 [00:18<00:00,  5.15it/s]\n"
     ]
    },
    {
     "name": "stdout",
     "output_type": "stream",
     "text": [
      "Epoch 66/75\n"
     ]
    },
    {
     "name": "stderr",
     "output_type": "stream",
     "text": [
      "Training loss: 0.00163: 100%|██████████| 375/375 [02:02<00:00,  3.05it/s]\n",
      "Validation loss: 0.00167: 100%|██████████| 94/94 [00:18<00:00,  5.13it/s]\n"
     ]
    },
    {
     "name": "stdout",
     "output_type": "stream",
     "text": [
      "Epoch 67/75\n"
     ]
    },
    {
     "name": "stderr",
     "output_type": "stream",
     "text": [
      "Training loss: 0.0016: 100%|██████████| 375/375 [02:07<00:00,  2.94it/s] \n",
      "Validation loss: 0.00163: 100%|██████████| 94/94 [00:18<00:00,  5.14it/s]\n"
     ]
    },
    {
     "name": "stdout",
     "output_type": "stream",
     "text": [
      "Epoch 68/75\n"
     ]
    },
    {
     "name": "stderr",
     "output_type": "stream",
     "text": [
      "Training loss: 0.00162: 100%|██████████| 375/375 [01:58<00:00,  3.16it/s]\n",
      "Validation loss: 0.00164: 100%|██████████| 94/94 [00:18<00:00,  5.21it/s]\n"
     ]
    },
    {
     "name": "stdout",
     "output_type": "stream",
     "text": [
      "Epoch 69/75\n"
     ]
    },
    {
     "name": "stderr",
     "output_type": "stream",
     "text": [
      "Training loss: 0.00161: 100%|██████████| 375/375 [01:56<00:00,  3.22it/s]\n",
      "Validation loss: 0.00165: 100%|██████████| 94/94 [00:19<00:00,  4.83it/s]\n"
     ]
    },
    {
     "name": "stdout",
     "output_type": "stream",
     "text": [
      "Epoch 70/75\n"
     ]
    },
    {
     "name": "stderr",
     "output_type": "stream",
     "text": [
      "Training loss: 0.00161: 100%|██████████| 375/375 [02:05<00:00,  2.99it/s]\n",
      "Validation loss: 0.00161: 100%|██████████| 94/94 [00:18<00:00,  5.13it/s]\n"
     ]
    },
    {
     "name": "stdout",
     "output_type": "stream",
     "text": [
      "Epoch 71/75\n"
     ]
    },
    {
     "name": "stderr",
     "output_type": "stream",
     "text": [
      "Training loss: 0.0016: 100%|██████████| 375/375 [02:00<00:00,  3.11it/s] \n",
      "Validation loss: 0.00164: 100%|██████████| 94/94 [00:17<00:00,  5.22it/s]\n"
     ]
    },
    {
     "name": "stdout",
     "output_type": "stream",
     "text": [
      "Epoch 72/75\n"
     ]
    },
    {
     "name": "stderr",
     "output_type": "stream",
     "text": [
      "Training loss: 0.00159: 100%|██████████| 375/375 [01:58<00:00,  3.16it/s]\n",
      "Validation loss: 0.00162: 100%|██████████| 94/94 [00:18<00:00,  5.09it/s]\n"
     ]
    },
    {
     "name": "stdout",
     "output_type": "stream",
     "text": [
      "Epoch 73/75\n"
     ]
    },
    {
     "name": "stderr",
     "output_type": "stream",
     "text": [
      "Training loss: 0.00159: 100%|██████████| 375/375 [01:57<00:00,  3.18it/s]\n",
      "Validation loss: 0.00162: 100%|██████████| 94/94 [00:17<00:00,  5.32it/s]\n"
     ]
    },
    {
     "name": "stdout",
     "output_type": "stream",
     "text": [
      "Epoch 74/75\n"
     ]
    },
    {
     "name": "stderr",
     "output_type": "stream",
     "text": [
      "Training loss: 0.00158: 100%|██████████| 375/375 [01:56<00:00,  3.21it/s]\n",
      "Validation loss: 0.00158: 100%|██████████| 94/94 [00:17<00:00,  5.24it/s]\n"
     ]
    },
    {
     "name": "stdout",
     "output_type": "stream",
     "text": [
      "Epoch 75/75\n"
     ]
    },
    {
     "name": "stderr",
     "output_type": "stream",
     "text": [
      "Training loss: 0.00159: 100%|██████████| 375/375 [01:57<00:00,  3.19it/s]\n",
      "Validation loss: 0.0016: 100%|██████████| 94/94 [00:17<00:00,  5.26it/s] \n"
     ]
    },
    {
     "name": "stdout",
     "output_type": "stream",
     "text": [
      "Checkpoint and losses saved.\n"
     ]
    }
   ],
   "source": [
    "# Define number of epochs and initialis losses\n",
    "n_epoch = 75\n",
    "training_losses = []\n",
    "validation_losses = []\n",
    "learning_rates = []\n",
    "\n",
    "# Directory to save checkpoints and losses\n",
    "act_string = str(activation).split('.')[-1].split('\\'')[0]\n",
    "base_directory_path = f\"../contents/SALTPEPPERRAW_cnn-nh{n_hidden}-act{act_string}_ddpm-b{betas}-nt{n_T}_lr{learning_rate}\"\n",
    "directory_path = base_directory_path\n",
    "counter = 1\n",
    "while os.path.exists(directory_path):\n",
    "    directory_path = f\"{base_directory_path}({counter})\"\n",
    "    counter += 1\n",
    "os.makedirs(directory_path, exist_ok=True)\n",
    "\n",
    "# Training and Validation\n",
    "try:\n",
    "    # Training Loop\n",
    "    for epoch in range(n_epoch):\n",
    "        ddpm.train()\n",
    "        batch_losses = []  \n",
    "        print(f\"Epoch {epoch+1}/{n_epoch}\")\n",
    "        pbar_train = tqdm(train_dataloader, desc=f\"Epoch {epoch+1}/{n_epoch} - Training\")\n",
    "        for x, _ in pbar_train:\n",
    "            x = x.to(accelerator.device)\n",
    "            optim.zero_grad()\n",
    "\n",
    "            loss = ddpm(x)\n",
    "            accelerator.backward(loss)\n",
    "\n",
    "            batch_losses.append(loss.item())\n",
    "            optim.step()\n",
    "\n",
    "            avg_loss = np.average(batch_losses)\n",
    "            pbar_train.set_description(f\"Training loss: {avg_loss:.3g}\")\n",
    "\n",
    "        training_losses.append(np.mean(batch_losses))  # Store the average loss for the epoch\n",
    "\n",
    "        # Validation Loop\n",
    "        ddpm.eval()\n",
    "        batch_val_losses = []\n",
    "        pbar_val = tqdm(validation_dataloader, desc=f\"Epoch {epoch+1}/{n_epoch} - Validation\")\n",
    "        with torch.no_grad():\n",
    "            for x_val, _ in pbar_val:\n",
    "                x_val = x_val.to(accelerator.device)\n",
    "                val_loss = ddpm(x_val)\n",
    "                batch_val_losses.append(val_loss.item())\n",
    "                avg_val_loss = np.average(batch_val_losses)\n",
    "                pbar_val.set_description(f\"Validation loss: {avg_val_loss:.3g}\")\n",
    "\n",
    "        validation_losses.append(np.mean(batch_val_losses))  # Store the average validation loss for the epoch\n",
    "\n",
    "        # Save model weights after each epoch\n",
    "        checkpoint_path = os.path.join(directory_path, f\"checkpoint_epoch_{epoch+1}.pth\")\n",
    "        torch.save(ddpm.state_dict(), checkpoint_path)\n",
    "\n",
    "        # Generate and save sample images after every epoch\n",
    "        mnist_batch_of_16 = next(iter(train_dataloader))[0][:16].to(accelerator.device)\n",
    "        with torch.no_grad():\n",
    "            xh = ddpm.sample(mnist_batch_of_16, 16, (1, 28, 28), accelerator.device)\n",
    "            grid = make_grid(xh, nrow=4)\n",
    "            save_image(grid, f\"{directory_path}/sample_{epoch:04d}.png\")\n",
    "\n",
    "except KeyboardInterrupt:\n",
    "    print(\"Training interrupted. Saving progress...\")\n",
    "    print(base_directory_path)\n",
    "    pass\n",
    "finally:\n",
    "    # Save losses and final model\n",
    "    np.save(f\"{directory_path}/training_losses.npy\", np.array(training_losses))\n",
    "    np.save(f\"{directory_path}/validation_losses.npy\", np.array(validation_losses))\n",
    "    np.save(f\"{directory_path}/learning_rates.npy\", np.array(learning_rates))\n",
    "    final_model_path = os.path.join(directory_path, \"final_model.pth\")\n",
    "    torch.save(ddpm.state_dict(), final_model_path)\n",
    "    print(\"Checkpoint and losses saved.\")"
   ]
  },
  {
   "cell_type": "markdown",
   "metadata": {},
   "source": [
    "## Performance Metrics"
   ]
  },
  {
   "cell_type": "markdown",
   "metadata": {},
   "source": [
    "### Training and Validation Loss Curves"
   ]
  },
  {
   "cell_type": "code",
   "execution_count": null,
   "metadata": {},
   "outputs": [
    {
     "name": "stdout",
     "output_type": "stream",
     "text": [
      "Contents of the directory:\n",
      "RUN_cnn-nh(16, 32, 32, 16)-actGELU_ddpm-b(0.0001, 0.02)-nt1000_lr0.0002(4)\n",
      ".DS_Store\n",
      "SALTPEPPER_cnn-nh(32, 64, 128, 64, 32)-actGELU_ddpm-b(0.05, 0.25)-nt150_lr0.0002(1)\n",
      "SALTPEPPER_cnn-nh(32, 64, 128, 64, 32)-actGELU_ddpm-b(0.05, 0.25)-nt120_lr0.0005\n",
      "SALTPEPPER_cnn-nh(32, 64, 128, 64, 32)-actGELU_ddpm-b(0.05, 0.25)-nt80_lr0.0005\n",
      "RUN_cnn-nh(32, 64, 128, 64, 32)-actGELU_ddpm-b(0.0001, 0.05)-nt1200_lr0.001\n",
      "SALTPEPPERRAW_cnn-nh(32, 64, 128, 64, 32)-actGELU_ddpm-b(0.05, 0.25)-nt150_lr0.0002\n"
     ]
    }
   ],
   "source": [
    "# Directoy of the contents\n",
    "directory_path = '../contents'\n",
    "\n",
    "if os.path.exists(directory_path):\n",
    "    print(\"Contents of the directory:\")\n",
    "    for item in os.listdir(directory_path):\n",
    "        print(item)\n",
    "else:\n",
    "    print(f\"No such directory: {directory_path}\")"
   ]
  },
  {
   "cell_type": "code",
   "execution_count": 14,
   "metadata": {},
   "outputs": [
    {
     "name": "stdout",
     "output_type": "stream",
     "text": [
      "Average training loss: 0.0029069431474432355\n",
      "Average validation loss: 0.0027154453804696652\n",
      "Final training loss: 0.0015893286522477865\n",
      "Final validation loss: 0.0016038198942972465\n",
      "Minimum validation loss: 0.0015806510011625893\n",
      "Epoch of minimum validation loss: 73\n"
     ]
    },
    {
     "data": {
      "image/png": "[encoded data removed]",
      "text/plain": [
       "<Figure size 550x400 with 1 Axes>"
      ]
     },
     "metadata": {},
     "output_type": "display_data"
    }
   ],
   "source": [
    "# Select Run to load (copy paste from above)\n",
    "run_name = \"SALTPEPPERRAW_cnn-nh(32, 64, 128, 64, 32)-actGELU_ddpm-b(0.05, 0.25)-nt150_lr0.0002\"\n",
    "\n",
    "# Load the losses\n",
    "training_losses = np.load(f\"../contents/{run_name}/training_losses.npy\")\n",
    "validation_losses = np.load(f\"../contents/{run_name}/validation_losses.npy\")\n",
    "learning_rates = np.load(f\"../contents/{run_name}/learning_rates.npy\")\n",
    "\n",
    "\n",
    "# Visualize the losses\n",
    "plt.figure(figsize=(5.5, 4))\n",
    "plt.plot(training_losses, label=\"Training loss\",  linestyle = '-.', color = 'black')\n",
    "plt.plot(validation_losses, label=\"Validation loss\", color = sd2022_orange)\n",
    "plt.xlabel(\"Epoch\")\n",
    "plt.ylabel(\"Loss\")\n",
    "plt.legend()\n",
    "print(\"Average training loss:\", np.mean(training_losses))\n",
    "print(\"Average validation loss:\", np.mean(validation_losses))\n",
    "print(\"Final training loss:\", training_losses[-1])\n",
    "print(\"Final validation loss:\", validation_losses[-1])\n",
    "print(\"Minimum validation loss:\", np.min(validation_losses))\n",
    "print(\"Epoch of minimum validation loss:\", np.argmin(validation_losses))\n",
    "\n"
   ]
  },
  {
   "cell_type": "markdown",
   "metadata": {},
   "source": [
    "### FID Score "
   ]
  },
  {
   "cell_type": "code",
   "execution_count": 15,
   "metadata": {},
   "outputs": [
    {
     "name": "stdout",
     "output_type": "stream",
     "text": [
      "FID: 120.1854476928711\n",
      "FID: 141.39260864257812\n",
      "FID: 75.31147766113281\n"
     ]
    }
   ],
   "source": [
    "try:\n",
    "    # Get real images\n",
    "    real_images_list = []\n",
    "    images_needed = 100\n",
    "    for images, _ in train_dataloader:\n",
    "        real_images_list.append(images.to(accelerator.device))\n",
    "        if sum(len(images) for images in real_images_list) >= images_needed:\n",
    "            break  \n",
    "    real_images = torch.cat(real_images_list, dim=0)[:images_needed]\n",
    "\n",
    "    # Load the model \n",
    "    run_name = \"SALTPEPPERRAW_cnn-nh(32, 64, 128, 64, 32)-actGELU_ddpm-b(0.05, 0.25)-nt150_lr0.0002\"\n",
    "    epochs = [10, 66, 75]\n",
    "\n",
    "    def get_fake_images(epoch, run_name):\n",
    "        \"\"\"Get generated images from the model at a specific epoch.\n",
    "        \"\"\"\n",
    "        ddpm = DDPM(gt=gt, betas=(0.05, 0.25), n_T=150)\n",
    "        checkpoint_path = f'../contents/{run_name}/checkpoint_epoch_{epoch}.pth'\n",
    "        model = torch.load(checkpoint_path)\n",
    "\n",
    "        accumulated_images = []\n",
    "        accumulated_count = 0\n",
    "        for batch in train_dataloader:\n",
    "            images = batch[0].to(accelerator.device)  # Assuming the first element of the batch is the images\n",
    "            accumulated_images.append(images)\n",
    "            accumulated_count += images.size(0)\n",
    "            if accumulated_count >= 100:\n",
    "                break\n",
    "        mnist_batch_of_1000 = torch.cat(accumulated_images, dim=0)[:100]\n",
    "\n",
    "        # Get fake images\n",
    "        with torch.no_grad():\n",
    "            ddpm.load_state_dict(model)\n",
    "            ddpm.to('cpu')\n",
    "            fake_images = ddpm.sample(mnist_batch_of_1000, images_needed, (1, 28, 28), device='cpu')\n",
    "        return fake_images\n",
    "\n",
    "    # Calculate the FID score\n",
    "    def calculate_fid_score(real_images, fake_images):\n",
    "        \"\"\"Calculate the FID score between real and generated images.\n",
    "        \"\"\"\n",
    "        # Prepare the images\n",
    "        real_images_rgb, fake_images_rgb = real_images.repeat(1, 3, 1, 1), fake_images.repeat(1, 3, 1, 1)\n",
    "        real_images_rgb, fake_images_rgb = real_images_rgb.to('cpu'), fake_images_rgb.to('cpu')\n",
    "        real_images_rgb, fake_images_rgb = (real_images_rgb + 0.5) / (torch.max(real_images_rgb) - torch.min(real_images_rgb)), (fake_images_rgb - torch.min(fake_images_rgb)) / (torch.max(fake_images_rgb) - torch.min(fake_images_rgb))\n",
    "        real_images_rgb = real_images_rgb.float() \n",
    "        fake_images_rgb = fake_images_rgb.float()\n",
    "        # Calculate FID score\n",
    "        with torch.no_grad():\n",
    "            fid = FrechetInceptionDistance(normalize=True)\n",
    "            for i in range(10):\n",
    "                batch_real = real_images_rgb[i*10:(i+1)*10].float()  \n",
    "                batch_fake = fake_images_rgb[i*10:(i+1)*10].float() \n",
    "                if batch_real.size(0) > 0 and batch_fake.size(0) > 0:\n",
    "                    fid.update(batch_real, real=True)\n",
    "                    fid.update(batch_fake, real=False)\n",
    "        print(f\"FID: {float(fid.compute())}\")\n",
    "        return float(fid.compute())\n",
    "\n",
    "    # Save FID scores\n",
    "    fid_scores = []\n",
    "    for epoch in epochs:\n",
    "        fake_images = get_fake_images(epoch, run_name)\n",
    "        fid_score = calculate_fid_score(real_images, fake_images)\n",
    "        fid_scores.append(fid_score)\n",
    "\n",
    "    df_fid = pd.DataFrame(fid_scores, columns=[\"FID score\"], index=epochs)\n",
    "    df_fid.to_csv(f\"../contents/{run_name}/fid_scores.csv\")\n",
    "\n",
    "except KeyboardInterrupt:\n",
    "    print(\"Interrupted.\")\n",
    "    pass"
   ]
  },
  {
   "cell_type": "code",
   "execution_count": 25,
   "metadata": {},
   "outputs": [
    {
     "data": {
      "image/png": "[encoded data removed]",
      "text/plain": [
       "<Figure size 550x400 with 1 Axes>"
      ]
     },
     "metadata": {},
     "output_type": "display_data"
    }
   ],
   "source": [
    "# Load the FID scores\n",
    "run_name = \"RUN_cnn-nh(16, 32, 32, 16)-actGELU_ddpm-b(0.0001, 0.02)-nt1000_lr0.0002(4)\"\n",
    "run_name2 = \"RUN_cnn-nh(32, 64, 128, 64, 32)-actGELU_ddpm-b(0.0001, 0.05)-nt1200_lr0.001\"\n",
    "run_name3 = \"SALTPEPPER_cnn-nh(32, 64, 128, 64, 32)-actGELU_ddpm-b(0.05, 0.25)-nt150_lr0.0002(1)\"\n",
    "run_name4 = \"SALTPEPPERRAW_cnn-nh(32, 64, 128, 64, 32)-actGELU_ddpm-b(0.05, 0.25)-nt150_lr0.0002\"\n",
    "df_fid = pd.read_csv(f\"../contents/{run_name}/fid_scores.csv\", index_col=0)\n",
    "df_fid2 = pd.read_csv(f\"../contents/{run_name2}/fid_scores.csv\", index_col=0)\n",
    "df_fid3 = pd.read_csv(f\"../contents/{run_name3}/fid_scores.csv\", index_col=0)\n",
    "df_fid4 = pd.read_csv(f\"../contents/{run_name4}/fid_scores.csv\", index_col=0)\n",
    "\n",
    "# Visualize the FID scores\n",
    "plt.figure(figsize=(5.5, 4))\n",
    "plt.plot(df_fid, marker='.', color=sd2022_blue, label = 'Model 1')\n",
    "plt.plot(df_fid2, marker='.', color=sd2022_red, label = 'Model 2')\n",
    "plt.plot(df_fid3, marker='.', color=sd2022_green, label = 'Model 3')\n",
    "plt.plot(df_fid4, marker='.', color=sd2022_orange, label = 'Model 4')\n",
    "plt.xlabel(\"Epoch\")\n",
    "plt.ylabel(r'$FID$')\n",
    "plt.legend()\n",
    "plt.show()\n",
    "\n"
   ]
  },
  {
   "cell_type": "markdown",
   "metadata": {},
   "source": [
    "### IS Score"
   ]
  },
  {
   "cell_type": "code",
   "execution_count": 26,
   "metadata": {},
   "outputs": [
    {
     "data": {
      "text/plain": [
       "<All keys matched successfully>"
      ]
     },
     "execution_count": 26,
     "metadata": {},
     "output_type": "execute_result"
    }
   ],
   "source": [
    "# Define the CNN classifier\n",
    "class CNN(nn.Module):\n",
    "    def __init__(self):\n",
    "        super(CNN, self).__init__()\n",
    "        self.conv1 = nn.Sequential(         \n",
    "            nn.Conv2d(\n",
    "                in_channels=1,              \n",
    "                out_channels=16,            \n",
    "                kernel_size=5,              \n",
    "                stride=1,                   \n",
    "                padding=2,                  \n",
    "            ),                              \n",
    "            nn.ReLU(),                      \n",
    "            nn.MaxPool2d(kernel_size=2),    \n",
    "        )\n",
    "        self.conv2 = nn.Sequential(         \n",
    "            nn.Conv2d(16, 32, 5, 1, 2),     \n",
    "            nn.ReLU(),                      \n",
    "            nn.MaxPool2d(2),                \n",
    "        )\n",
    "        self.out = nn.Linear(32 * 7 * 7, 10)\n",
    "    def forward(self, x):\n",
    "        x = self.conv1(x)\n",
    "        x = self.conv2(x)\n",
    "        x = x.view(x.size(0), -1)       \n",
    "        output = self.out(x)\n",
    "        return output, x  \n",
    "\n",
    "model = CNN()\n",
    "model.to(accelerator.device)\n",
    "\n",
    "# Load the CNN classifier\n",
    "cnn_model_name = \"../classifier_models/cnn_classifier4.pth\"\n",
    "state_dict = torch.load(cnn_model_name, map_location=accelerator.device)\n",
    "model.load_state_dict(state_dict)"
   ]
  },
  {
   "cell_type": "code",
   "execution_count": 33,
   "metadata": {},
   "outputs": [
    {
     "name": "stderr",
     "output_type": "stream",
     "text": [
      "Clipping input data to the valid range for imshow with RGB data ([0..1] for floats or [0..255] for integers).\n"
     ]
    },
    {
     "data": {
      "image/png": "[encoded data removed]",
      "text/plain": [
       "<Figure size 1000x1000 with 1 Axes>"
      ]
     },
     "metadata": {},
     "output_type": "display_data"
    }
   ],
   "source": [
    "try:\n",
    "    # Define DDPM\n",
    "    run_name = \"SALTPEPPERRAW_cnn-nh(32, 64, 128, 64, 32)-actGELU_ddpm-b(0.05, 0.25)-nt150_lr0.0002\"\n",
    "    ep = 48\n",
    "\n",
    "    # Generate samples\n",
    "    def generate_images(epoch, run_name, n_images):\n",
    "        \"\"\"Sample images from the model at a specific epoch.\"\"\"\n",
    "        ddpm = DDPM(gt=gt, betas=(0.05, 0.25), n_T=150)\n",
    "        checkpoint_path = f'../contents/{run_name}/checkpoint_epoch_{epoch}.pth'\n",
    "        model = torch.load(checkpoint_path)\n",
    "\n",
    "        accumulated_images = []\n",
    "        accumulated_count = 0\n",
    "        for batch in train_dataloader:\n",
    "            images = batch[0].to(accelerator.device)\n",
    "            accumulated_images.append(images)\n",
    "            accumulated_count += images.size(0)\n",
    "            if accumulated_count >= 1000:\n",
    "                break\n",
    "        mnist_batch_of_1000 = torch.cat(accumulated_images, dim=0)[:1000]\n",
    "\n",
    "        # Get fake images\n",
    "        with torch.no_grad():\n",
    "            ddpm.load_state_dict(model)\n",
    "            ddpm.to(accelerator.device)\n",
    "            images = ddpm.sample(mnist_batch_of_1000, n_images, (1, 28, 28), device=accelerator.device)\n",
    "        return images\n",
    "\n",
    "    images = generate_images(ep, run_name, 1000)\n",
    "    images100 = images[:100]\n",
    "    images_grid = make_grid(images100, nrow=10, padding=2, normalize=False)\n",
    "    plt.figure(figsize=(10, 10))\n",
    "    plt.axis(\"off\")\n",
    "    plt.imshow(images_grid.permute(1, 2, 0).cpu())\n",
    "\n",
    "\n",
    "    # Predict labels for the images\n",
    "    def predict_labels(images, model):\n",
    "        \"\"\"Predict labels for the images using the CNN classifier.\"\"\"\n",
    "        model.eval()\n",
    "        images = images.to(accelerator.device)\n",
    "        with torch.no_grad():\n",
    "            test_output, last_layer = model(images)\n",
    "            predicted = torch.max(test_output, 1)[1].data.squeeze()\n",
    "        return predicted, last_layer\n",
    "\n",
    "    predicted_labels, last_layer = predict_labels(images, model)\n",
    "    predicted_labels = predicted_labels.cpu()\n",
    "    last_layer = last_layer.cpu()\n",
    "\n",
    "    # Save the predicted labels\n",
    "    df = pd.DataFrame(predicted_labels.numpy(), columns=[\"Predicted labels\"])\n",
    "    df.to_csv(f\"../contents/{run_name}/predicted_labels.csv\")\n",
    "\n",
    "    # Save the last layer predictions\n",
    "    np.save(f\"../contents/{run_name}/last_layer.npy\", last_layer.numpy())\n",
    "\n",
    "    # Clear existing directories and save images in new directories based on predicted labels\n",
    "    for i in range(10):\n",
    "        dir_path = f\"../contents/{run_name}/predicted_labels/{i}\"\n",
    "        if os.path.exists(dir_path):\n",
    "            shutil.rmtree(dir_path)\n",
    "        os.makedirs(dir_path, exist_ok=True)\n",
    "\n",
    "    # Save images in folders depending on prediction\n",
    "    for i in range(1000):\n",
    "        save_image(images[i].unsqueeze(0), f\"../contents/{run_name}/predicted_labels/{predicted_labels[i]}/{i}.png\")\n",
    "\n",
    "except KeyboardInterrupt:\n",
    "    print(\"Interrupted.\")\n",
    "    pass"
   ]
  },
  {
   "cell_type": "code",
   "execution_count": 34,
   "metadata": {},
   "outputs": [
    {
     "data": {
      "image/png": "[encoded data removed]",
      "text/plain": [
       "<Figure size 550x400 with 1 Axes>"
      ]
     },
     "metadata": {},
     "output_type": "display_data"
    }
   ],
   "source": [
    "# Load the predicted labels\n",
    "df = pd.read_csv(f\"../contents/{run_name}/predicted_labels.csv\")\n",
    "predicted_labels = df[\"Predicted labels\"].values\n",
    "\n",
    "# Plot prediction histogram\n",
    "label_freq = [np.sum(predicted_labels == i) for i in range(10)]\n",
    "plt.figure(figsize=(5.5, 4))\n",
    "plt.bar(range(10), label_freq, color=sd2022_orange)\n",
    "plt.xticks(range(10), labels=[str(i) for i in range(10)])\n",
    "plt.minorticks_off()\n",
    "plt.xlabel(\"Label\")\n",
    "plt.ylabel(\"Frequency\")\n",
    "plt.show()"
   ]
  },
  {
   "cell_type": "code",
   "execution_count": 31,
   "metadata": {},
   "outputs": [
    {
     "name": "stdout",
     "output_type": "stream",
     "text": [
      "Inception Score: 1.319 ± 0.058\n"
     ]
    }
   ],
   "source": [
    "# Inception Score function\n",
    "def inception_score_from_preds(preds, splits=10):\n",
    "    \"\"\"Calculate the Inception Score from precomputed predictions.\"\"\"\n",
    "    scores = []\n",
    "    N = preds.shape[0]\n",
    "    for k in range(splits):\n",
    "        part = preds[k * (N // splits): (k + 1) * (N // splits), :]\n",
    "        py = np.mean(part, axis=0)\n",
    "        scores.append(np.exp(np.mean(entropy(part, py, base=np.e, axis=1)))) \n",
    "    return np.mean(scores), np.std(scores)\n",
    "\n",
    "# Load the inception predictions\n",
    "inception_preds = np.load(f\"../contents/{run_name}/last_layer.npy\")\n",
    "logits = torch.tensor(inception_preds)  # Convert to a PyTorch tensor if not already\n",
    "probs = torch.nn.functional.softmax(logits, dim=1).numpy()  # Apply softmax and convert back to numpy\n",
    "\n",
    "# Calculate the Inception Score\n",
    "inception_score, inception_std = inception_score_from_preds(probs)\n",
    "print(f\"Inception Score: {inception_score:.3f} ± {inception_std:.3f}\")"
   ]
  },
  {
   "cell_type": "code",
   "execution_count": 35,
   "metadata": {},
   "outputs": [
    {
     "data": {
      "image/png": "[encoded data removed]",
      "text/plain": [
       "<Figure size 2000x600 with 30 Axes>"
      ]
     },
     "metadata": {},
     "output_type": "display_data"
    }
   ],
   "source": [
    "# Display 3 images for each digit\n",
    "\n",
    "run_name = \"SALTPEPPERRAW_cnn-nh(32, 64, 128, 64, 32)-actGELU_ddpm-b(0.05, 0.25)-nt150_lr0.0002\"\n",
    "base_path = f\"../contents/{run_name}/predicted_labels\"\n",
    "\n",
    "n_digits = 10  \n",
    "n_images_per_digit = 3 \n",
    "\n",
    "fig, axes = plt.subplots(n_images_per_digit, n_digits, figsize=(n_digits * 2, n_images_per_digit * 2))\n",
    "\n",
    "for digit in range(n_digits):\n",
    "    digit_path = os.path.join(base_path, str(digit))\n",
    "    image_files = sorted(os.listdir(digit_path))[:n_images_per_digit]\n",
    "    \n",
    "    for i, image_file in enumerate(image_files):\n",
    "        img_path = os.path.join(digit_path, image_file)\n",
    "        img = mpimg.imread(img_path)\n",
    "\n",
    "        if i == 0:\n",
    "            axes[i,digit].set_title(digit, fontsize = 20)\n",
    "        \n",
    "        axes[i, digit].imshow(img) \n",
    "        axes[i, digit].axis('off') \n",
    "\n",
    "plt.tight_layout()\n",
    "rect = patches.Rectangle((0.0, 0.0), 1, 1, linewidth=4, edgecolor=sd2022_orange, facecolor='none', transform=fig.transFigure, clip_on=False)\n",
    "fig.patches.append(rect)\n",
    "plt.show()\n"
   ]
  }
 ],
 "metadata": {
  "accelerator": "GPU",
  "colab": {
   "gpuType": "A100",
   "machine_shape": "hm",
   "provenance": []
  },
  "kernelspec": {
   "display_name": "Python 3",
   "name": "python3"
  },
  "language_info": {
   "codemirror_mode": {
    "name": "ipython",
    "version": 3
   },
   "file_extension": ".py",
   "mimetype": "text/x-python",
   "name": "python",
   "nbconvert_exporter": "python",
   "pygments_lexer": "ipython3",
   "version": "3.11.8"
  }
 },
 "nbformat": 4,
 "nbformat_minor": 0
}
