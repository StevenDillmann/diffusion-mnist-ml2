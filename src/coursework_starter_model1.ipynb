{
 "cells": [
  {
   "cell_type": "markdown",
   "metadata": {
    "id": "nOqtixLa1y-b"
   },
   "source": [
    "# Applications of Machine Learning - Coursework Submission - Notebook for Model 1\n",
    "### Steven Dillmann\n",
    "\n",
    "**MPhil Data Intensive Science | University of Cambridge**\n",
    "\n",
    "28th March 2024\n",
    "\n",
    "[sd2022@cam.ac.uk](sd2022@cam.ac.uk)\n",
    "\n",
    "This notebook was written by Steven Dillmann as part of the coursework submission for the *Applications of Machine Learning* module in the MPhil in Data Intensive Science at the University of Cambridge. The coursework assignment can be found here: [Applications of Machine Learning - Coursework Assignment](../coursework.pdf). The associated report can be found here: [Applications of Machine Learning - Coursework Report](../report/m2_sd2022_report.pdf)."
   ]
  },
  {
   "cell_type": "markdown",
   "metadata": {},
   "source": [
    "## Set-Up"
   ]
  },
  {
   "cell_type": "markdown",
   "metadata": {},
   "source": [
    "### Installations & Imports and Settings"
   ]
  },
  {
   "cell_type": "code",
   "execution_count": 3,
   "metadata": {
    "id": "50FGtZsk1y-b"
   },
   "outputs": [
    {
     "name": "stdout",
     "output_type": "stream",
     "text": [
      "Requirement already satisfied: pandas in /Users/steven/anaconda3/envs/m2_sd2022_env/lib/python3.10/site-packages (2.2.1)\n",
      "Requirement already satisfied: numpy<2,>=1.22.4 in /Users/steven/anaconda3/envs/m2_sd2022_env/lib/python3.10/site-packages (from pandas) (1.26.4)\n",
      "Requirement already satisfied: python-dateutil>=2.8.2 in /Users/steven/anaconda3/envs/m2_sd2022_env/lib/python3.10/site-packages (from pandas) (2.9.0.post0)\n",
      "Requirement already satisfied: pytz>=2020.1 in /Users/steven/anaconda3/envs/m2_sd2022_env/lib/python3.10/site-packages (from pandas) (2024.1)\n",
      "Requirement already satisfied: tzdata>=2022.7 in /Users/steven/anaconda3/envs/m2_sd2022_env/lib/python3.10/site-packages (from pandas) (2024.1)\n",
      "Requirement already satisfied: six>=1.5 in /Users/steven/anaconda3/envs/m2_sd2022_env/lib/python3.10/site-packages (from python-dateutil>=2.8.2->pandas) (1.16.0)\n",
      "Requirement already satisfied: numpy in /Users/steven/anaconda3/envs/m2_sd2022_env/lib/python3.10/site-packages (1.26.4)\n",
      "Requirement already satisfied: typing in /Users/steven/anaconda3/envs/m2_sd2022_env/lib/python3.10/site-packages (3.7.4.3)\n",
      "Requirement already satisfied: torch in /Users/steven/anaconda3/envs/m2_sd2022_env/lib/python3.10/site-packages (2.2.0)\n",
      "Requirement already satisfied: filelock in /Users/steven/anaconda3/envs/m2_sd2022_env/lib/python3.10/site-packages (from torch) (3.13.3)\n",
      "Requirement already satisfied: typing-extensions>=4.8.0 in /Users/steven/anaconda3/envs/m2_sd2022_env/lib/python3.10/site-packages (from torch) (4.10.0)\n",
      "Requirement already satisfied: sympy in /Users/steven/anaconda3/envs/m2_sd2022_env/lib/python3.10/site-packages (from torch) (1.12)\n",
      "Requirement already satisfied: networkx in /Users/steven/anaconda3/envs/m2_sd2022_env/lib/python3.10/site-packages (from torch) (3.2.1)\n",
      "Requirement already satisfied: jinja2 in /Users/steven/anaconda3/envs/m2_sd2022_env/lib/python3.10/site-packages (from torch) (3.1.3)\n",
      "Requirement already satisfied: fsspec in /Users/steven/anaconda3/envs/m2_sd2022_env/lib/python3.10/site-packages (from torch) (2024.3.1)\n",
      "Requirement already satisfied: MarkupSafe>=2.0 in /Users/steven/anaconda3/envs/m2_sd2022_env/lib/python3.10/site-packages (from jinja2->torch) (2.1.5)\n",
      "Requirement already satisfied: mpmath>=0.19 in /Users/steven/anaconda3/envs/m2_sd2022_env/lib/python3.10/site-packages (from sympy->torch) (1.3.0)\n",
      "Requirement already satisfied: accelerate in /Users/steven/anaconda3/envs/m2_sd2022_env/lib/python3.10/site-packages (0.27.2)\n",
      "Requirement already satisfied: numpy>=1.17 in /Users/steven/anaconda3/envs/m2_sd2022_env/lib/python3.10/site-packages (from accelerate) (1.26.4)\n",
      "Requirement already satisfied: packaging>=20.0 in /Users/steven/anaconda3/envs/m2_sd2022_env/lib/python3.10/site-packages (from accelerate) (24.0)\n",
      "Requirement already satisfied: psutil in /Users/steven/anaconda3/envs/m2_sd2022_env/lib/python3.10/site-packages (from accelerate) (5.9.8)\n",
      "Requirement already satisfied: pyyaml in /Users/steven/anaconda3/envs/m2_sd2022_env/lib/python3.10/site-packages (from accelerate) (6.0.1)\n",
      "Requirement already satisfied: torch>=1.10.0 in /Users/steven/anaconda3/envs/m2_sd2022_env/lib/python3.10/site-packages (from accelerate) (2.2.0)\n",
      "Requirement already satisfied: huggingface-hub in /Users/steven/anaconda3/envs/m2_sd2022_env/lib/python3.10/site-packages (from accelerate) (0.22.2)\n",
      "Requirement already satisfied: safetensors>=0.3.1 in /Users/steven/anaconda3/envs/m2_sd2022_env/lib/python3.10/site-packages (from accelerate) (0.4.2)\n",
      "Requirement already satisfied: filelock in /Users/steven/anaconda3/envs/m2_sd2022_env/lib/python3.10/site-packages (from torch>=1.10.0->accelerate) (3.13.3)\n",
      "Requirement already satisfied: typing-extensions>=4.8.0 in /Users/steven/anaconda3/envs/m2_sd2022_env/lib/python3.10/site-packages (from torch>=1.10.0->accelerate) (4.10.0)\n",
      "Requirement already satisfied: sympy in /Users/steven/anaconda3/envs/m2_sd2022_env/lib/python3.10/site-packages (from torch>=1.10.0->accelerate) (1.12)\n",
      "Requirement already satisfied: networkx in /Users/steven/anaconda3/envs/m2_sd2022_env/lib/python3.10/site-packages (from torch>=1.10.0->accelerate) (3.2.1)\n",
      "Requirement already satisfied: jinja2 in /Users/steven/anaconda3/envs/m2_sd2022_env/lib/python3.10/site-packages (from torch>=1.10.0->accelerate) (3.1.3)\n",
      "Requirement already satisfied: fsspec in /Users/steven/anaconda3/envs/m2_sd2022_env/lib/python3.10/site-packages (from torch>=1.10.0->accelerate) (2024.3.1)\n",
      "Requirement already satisfied: requests in /Users/steven/anaconda3/envs/m2_sd2022_env/lib/python3.10/site-packages (from huggingface-hub->accelerate) (2.31.0)\n",
      "Requirement already satisfied: tqdm>=4.42.1 in /Users/steven/anaconda3/envs/m2_sd2022_env/lib/python3.10/site-packages (from huggingface-hub->accelerate) (4.66.2)\n",
      "Requirement already satisfied: MarkupSafe>=2.0 in /Users/steven/anaconda3/envs/m2_sd2022_env/lib/python3.10/site-packages (from jinja2->torch>=1.10.0->accelerate) (2.1.5)\n",
      "Requirement already satisfied: charset-normalizer<4,>=2 in /Users/steven/anaconda3/envs/m2_sd2022_env/lib/python3.10/site-packages (from requests->huggingface-hub->accelerate) (3.3.2)\n",
      "Requirement already satisfied: idna<4,>=2.5 in /Users/steven/anaconda3/envs/m2_sd2022_env/lib/python3.10/site-packages (from requests->huggingface-hub->accelerate) (3.6)\n",
      "Requirement already satisfied: urllib3<3,>=1.21.1 in /Users/steven/anaconda3/envs/m2_sd2022_env/lib/python3.10/site-packages (from requests->huggingface-hub->accelerate) (2.2.1)\n",
      "Requirement already satisfied: certifi>=2017.4.17 in /Users/steven/anaconda3/envs/m2_sd2022_env/lib/python3.10/site-packages (from requests->huggingface-hub->accelerate) (2024.2.2)\n",
      "Requirement already satisfied: mpmath>=0.19 in /Users/steven/anaconda3/envs/m2_sd2022_env/lib/python3.10/site-packages (from sympy->torch>=1.10.0->accelerate) (1.3.0)\n",
      "Requirement already satisfied: torchvision in /Users/steven/anaconda3/envs/m2_sd2022_env/lib/python3.10/site-packages (0.17.0)\n",
      "Requirement already satisfied: numpy in /Users/steven/anaconda3/envs/m2_sd2022_env/lib/python3.10/site-packages (from torchvision) (1.26.4)\n",
      "Requirement already satisfied: requests in /Users/steven/anaconda3/envs/m2_sd2022_env/lib/python3.10/site-packages (from torchvision) (2.31.0)\n",
      "Requirement already satisfied: torch==2.2.0 in /Users/steven/anaconda3/envs/m2_sd2022_env/lib/python3.10/site-packages (from torchvision) (2.2.0)\n",
      "Requirement already satisfied: pillow!=8.3.*,>=5.3.0 in /Users/steven/anaconda3/envs/m2_sd2022_env/lib/python3.10/site-packages (from torchvision) (10.3.0)\n",
      "Requirement already satisfied: filelock in /Users/steven/anaconda3/envs/m2_sd2022_env/lib/python3.10/site-packages (from torch==2.2.0->torchvision) (3.13.3)\n",
      "Requirement already satisfied: typing-extensions>=4.8.0 in /Users/steven/anaconda3/envs/m2_sd2022_env/lib/python3.10/site-packages (from torch==2.2.0->torchvision) (4.10.0)\n",
      "Requirement already satisfied: sympy in /Users/steven/anaconda3/envs/m2_sd2022_env/lib/python3.10/site-packages (from torch==2.2.0->torchvision) (1.12)\n",
      "Requirement already satisfied: networkx in /Users/steven/anaconda3/envs/m2_sd2022_env/lib/python3.10/site-packages (from torch==2.2.0->torchvision) (3.2.1)\n",
      "Requirement already satisfied: jinja2 in /Users/steven/anaconda3/envs/m2_sd2022_env/lib/python3.10/site-packages (from torch==2.2.0->torchvision) (3.1.3)\n",
      "Requirement already satisfied: fsspec in /Users/steven/anaconda3/envs/m2_sd2022_env/lib/python3.10/site-packages (from torch==2.2.0->torchvision) (2024.3.1)\n",
      "Requirement already satisfied: charset-normalizer<4,>=2 in /Users/steven/anaconda3/envs/m2_sd2022_env/lib/python3.10/site-packages (from requests->torchvision) (3.3.2)\n",
      "Requirement already satisfied: idna<4,>=2.5 in /Users/steven/anaconda3/envs/m2_sd2022_env/lib/python3.10/site-packages (from requests->torchvision) (3.6)\n",
      "Requirement already satisfied: urllib3<3,>=1.21.1 in /Users/steven/anaconda3/envs/m2_sd2022_env/lib/python3.10/site-packages (from requests->torchvision) (2.2.1)\n",
      "Requirement already satisfied: certifi>=2017.4.17 in /Users/steven/anaconda3/envs/m2_sd2022_env/lib/python3.10/site-packages (from requests->torchvision) (2024.2.2)\n",
      "Requirement already satisfied: MarkupSafe>=2.0 in /Users/steven/anaconda3/envs/m2_sd2022_env/lib/python3.10/site-packages (from jinja2->torch==2.2.0->torchvision) (2.1.5)\n",
      "Requirement already satisfied: mpmath>=0.19 in /Users/steven/anaconda3/envs/m2_sd2022_env/lib/python3.10/site-packages (from sympy->torch==2.2.0->torchvision) (1.3.0)\n",
      "Requirement already satisfied: tqdm in /Users/steven/anaconda3/envs/m2_sd2022_env/lib/python3.10/site-packages (4.66.2)\n",
      "Requirement already satisfied: ipykernel in /Users/steven/anaconda3/envs/m2_sd2022_env/lib/python3.10/site-packages (6.29.2)\n",
      "Requirement already satisfied: appnope in /Users/steven/anaconda3/envs/m2_sd2022_env/lib/python3.10/site-packages (from ipykernel) (0.1.4)\n",
      "Requirement already satisfied: comm>=0.1.1 in /Users/steven/anaconda3/envs/m2_sd2022_env/lib/python3.10/site-packages (from ipykernel) (0.2.2)\n",
      "Requirement already satisfied: debugpy>=1.6.5 in /Users/steven/anaconda3/envs/m2_sd2022_env/lib/python3.10/site-packages (from ipykernel) (1.8.1)\n",
      "Requirement already satisfied: ipython>=7.23.1 in /Users/steven/anaconda3/envs/m2_sd2022_env/lib/python3.10/site-packages (from ipykernel) (8.21.0)\n",
      "Requirement already satisfied: jupyter-client>=6.1.12 in /Users/steven/anaconda3/envs/m2_sd2022_env/lib/python3.10/site-packages (from ipykernel) (8.6.1)\n",
      "Requirement already satisfied: jupyter-core!=5.0.*,>=4.12 in /Users/steven/anaconda3/envs/m2_sd2022_env/lib/python3.10/site-packages (from ipykernel) (5.7.2)\n",
      "Requirement already satisfied: matplotlib-inline>=0.1 in /Users/steven/anaconda3/envs/m2_sd2022_env/lib/python3.10/site-packages (from ipykernel) (0.1.6)\n",
      "Requirement already satisfied: nest-asyncio in /Users/steven/anaconda3/envs/m2_sd2022_env/lib/python3.10/site-packages (from ipykernel) (1.6.0)\n",
      "Requirement already satisfied: packaging in /Users/steven/anaconda3/envs/m2_sd2022_env/lib/python3.10/site-packages (from ipykernel) (24.0)\n",
      "Requirement already satisfied: psutil in /Users/steven/anaconda3/envs/m2_sd2022_env/lib/python3.10/site-packages (from ipykernel) (5.9.8)\n",
      "Requirement already satisfied: pyzmq>=24 in /Users/steven/anaconda3/envs/m2_sd2022_env/lib/python3.10/site-packages (from ipykernel) (25.1.2)\n",
      "Requirement already satisfied: tornado>=6.1 in /Users/steven/anaconda3/envs/m2_sd2022_env/lib/python3.10/site-packages (from ipykernel) (6.4)\n",
      "Requirement already satisfied: traitlets>=5.4.0 in /Users/steven/anaconda3/envs/m2_sd2022_env/lib/python3.10/site-packages (from ipykernel) (5.14.2)\n",
      "Requirement already satisfied: decorator in /Users/steven/anaconda3/envs/m2_sd2022_env/lib/python3.10/site-packages (from ipython>=7.23.1->ipykernel) (5.1.1)\n",
      "Requirement already satisfied: jedi>=0.16 in /Users/steven/anaconda3/envs/m2_sd2022_env/lib/python3.10/site-packages (from ipython>=7.23.1->ipykernel) (0.19.1)\n",
      "Requirement already satisfied: prompt-toolkit<3.1.0,>=3.0.41 in /Users/steven/anaconda3/envs/m2_sd2022_env/lib/python3.10/site-packages (from ipython>=7.23.1->ipykernel) (3.0.43)\n",
      "Requirement already satisfied: pygments>=2.4.0 in /Users/steven/anaconda3/envs/m2_sd2022_env/lib/python3.10/site-packages (from ipython>=7.23.1->ipykernel) (2.17.2)\n",
      "Requirement already satisfied: stack-data in /Users/steven/anaconda3/envs/m2_sd2022_env/lib/python3.10/site-packages (from ipython>=7.23.1->ipykernel) (0.6.3)\n",
      "Requirement already satisfied: exceptiongroup in /Users/steven/anaconda3/envs/m2_sd2022_env/lib/python3.10/site-packages (from ipython>=7.23.1->ipykernel) (1.2.0)\n",
      "Requirement already satisfied: pexpect>4.3 in /Users/steven/anaconda3/envs/m2_sd2022_env/lib/python3.10/site-packages (from ipython>=7.23.1->ipykernel) (4.9.0)\n",
      "Requirement already satisfied: python-dateutil>=2.8.2 in /Users/steven/anaconda3/envs/m2_sd2022_env/lib/python3.10/site-packages (from jupyter-client>=6.1.12->ipykernel) (2.9.0.post0)\n",
      "Requirement already satisfied: platformdirs>=2.5 in /Users/steven/anaconda3/envs/m2_sd2022_env/lib/python3.10/site-packages (from jupyter-core!=5.0.*,>=4.12->ipykernel) (4.2.0)\n",
      "Requirement already satisfied: parso<0.9.0,>=0.8.3 in /Users/steven/anaconda3/envs/m2_sd2022_env/lib/python3.10/site-packages (from jedi>=0.16->ipython>=7.23.1->ipykernel) (0.8.3)\n",
      "Requirement already satisfied: ptyprocess>=0.5 in /Users/steven/anaconda3/envs/m2_sd2022_env/lib/python3.10/site-packages (from pexpect>4.3->ipython>=7.23.1->ipykernel) (0.7.0)\n",
      "Requirement already satisfied: wcwidth in /Users/steven/anaconda3/envs/m2_sd2022_env/lib/python3.10/site-packages (from prompt-toolkit<3.1.0,>=3.0.41->ipython>=7.23.1->ipykernel) (0.2.13)\n",
      "Requirement already satisfied: six>=1.5 in /Users/steven/anaconda3/envs/m2_sd2022_env/lib/python3.10/site-packages (from python-dateutil>=2.8.2->jupyter-client>=6.1.12->ipykernel) (1.16.0)\n",
      "Requirement already satisfied: executing>=1.2.0 in /Users/steven/anaconda3/envs/m2_sd2022_env/lib/python3.10/site-packages (from stack-data->ipython>=7.23.1->ipykernel) (2.0.1)\n",
      "Requirement already satisfied: asttokens>=2.1.0 in /Users/steven/anaconda3/envs/m2_sd2022_env/lib/python3.10/site-packages (from stack-data->ipython>=7.23.1->ipykernel) (2.4.1)\n",
      "Requirement already satisfied: pure-eval in /Users/steven/anaconda3/envs/m2_sd2022_env/lib/python3.10/site-packages (from stack-data->ipython>=7.23.1->ipykernel) (0.2.2)\n",
      "Requirement already satisfied: ipython in /Users/steven/anaconda3/envs/m2_sd2022_env/lib/python3.10/site-packages (8.21.0)\n",
      "Requirement already satisfied: decorator in /Users/steven/anaconda3/envs/m2_sd2022_env/lib/python3.10/site-packages (from ipython) (5.1.1)\n",
      "Requirement already satisfied: jedi>=0.16 in /Users/steven/anaconda3/envs/m2_sd2022_env/lib/python3.10/site-packages (from ipython) (0.19.1)\n",
      "Requirement already satisfied: matplotlib-inline in /Users/steven/anaconda3/envs/m2_sd2022_env/lib/python3.10/site-packages (from ipython) (0.1.6)\n",
      "Requirement already satisfied: prompt-toolkit<3.1.0,>=3.0.41 in /Users/steven/anaconda3/envs/m2_sd2022_env/lib/python3.10/site-packages (from ipython) (3.0.43)\n",
      "Requirement already satisfied: pygments>=2.4.0 in /Users/steven/anaconda3/envs/m2_sd2022_env/lib/python3.10/site-packages (from ipython) (2.17.2)\n",
      "Requirement already satisfied: stack-data in /Users/steven/anaconda3/envs/m2_sd2022_env/lib/python3.10/site-packages (from ipython) (0.6.3)\n",
      "Requirement already satisfied: traitlets>=5 in /Users/steven/anaconda3/envs/m2_sd2022_env/lib/python3.10/site-packages (from ipython) (5.14.2)\n",
      "Requirement already satisfied: exceptiongroup in /Users/steven/anaconda3/envs/m2_sd2022_env/lib/python3.10/site-packages (from ipython) (1.2.0)\n",
      "Requirement already satisfied: pexpect>4.3 in /Users/steven/anaconda3/envs/m2_sd2022_env/lib/python3.10/site-packages (from ipython) (4.9.0)\n",
      "Requirement already satisfied: parso<0.9.0,>=0.8.3 in /Users/steven/anaconda3/envs/m2_sd2022_env/lib/python3.10/site-packages (from jedi>=0.16->ipython) (0.8.3)\n",
      "Requirement already satisfied: ptyprocess>=0.5 in /Users/steven/anaconda3/envs/m2_sd2022_env/lib/python3.10/site-packages (from pexpect>4.3->ipython) (0.7.0)\n",
      "Requirement already satisfied: wcwidth in /Users/steven/anaconda3/envs/m2_sd2022_env/lib/python3.10/site-packages (from prompt-toolkit<3.1.0,>=3.0.41->ipython) (0.2.13)\n",
      "Requirement already satisfied: executing>=1.2.0 in /Users/steven/anaconda3/envs/m2_sd2022_env/lib/python3.10/site-packages (from stack-data->ipython) (2.0.1)\n",
      "Requirement already satisfied: asttokens>=2.1.0 in /Users/steven/anaconda3/envs/m2_sd2022_env/lib/python3.10/site-packages (from stack-data->ipython) (2.4.1)\n",
      "Requirement already satisfied: pure-eval in /Users/steven/anaconda3/envs/m2_sd2022_env/lib/python3.10/site-packages (from stack-data->ipython) (0.2.2)\n",
      "Requirement already satisfied: six>=1.12.0 in /Users/steven/anaconda3/envs/m2_sd2022_env/lib/python3.10/site-packages (from asttokens>=2.1.0->stack-data->ipython) (1.16.0)\n",
      "Requirement already satisfied: scipy in /Users/steven/anaconda3/envs/m2_sd2022_env/lib/python3.10/site-packages (1.13.0)\n",
      "Requirement already satisfied: numpy<2.3,>=1.22.4 in /Users/steven/anaconda3/envs/m2_sd2022_env/lib/python3.10/site-packages (from scipy) (1.26.4)\n",
      "Requirement already satisfied: torchmetrics in /Users/steven/anaconda3/envs/m2_sd2022_env/lib/python3.10/site-packages (1.3.2)\n",
      "Requirement already satisfied: numpy>1.20.0 in /Users/steven/anaconda3/envs/m2_sd2022_env/lib/python3.10/site-packages (from torchmetrics) (1.26.4)\n",
      "Requirement already satisfied: packaging>17.1 in /Users/steven/anaconda3/envs/m2_sd2022_env/lib/python3.10/site-packages (from torchmetrics) (24.0)\n",
      "Requirement already satisfied: torch>=1.10.0 in /Users/steven/anaconda3/envs/m2_sd2022_env/lib/python3.10/site-packages (from torchmetrics) (2.2.0)\n",
      "Requirement already satisfied: lightning-utilities>=0.8.0 in /Users/steven/anaconda3/envs/m2_sd2022_env/lib/python3.10/site-packages (from torchmetrics) (0.11.2)\n",
      "Requirement already satisfied: setuptools in /Users/steven/anaconda3/envs/m2_sd2022_env/lib/python3.10/site-packages (from lightning-utilities>=0.8.0->torchmetrics) (69.2.0)\n",
      "Requirement already satisfied: typing-extensions in /Users/steven/anaconda3/envs/m2_sd2022_env/lib/python3.10/site-packages (from lightning-utilities>=0.8.0->torchmetrics) (4.10.0)\n",
      "Requirement already satisfied: filelock in /Users/steven/anaconda3/envs/m2_sd2022_env/lib/python3.10/site-packages (from torch>=1.10.0->torchmetrics) (3.13.3)\n",
      "Requirement already satisfied: sympy in /Users/steven/anaconda3/envs/m2_sd2022_env/lib/python3.10/site-packages (from torch>=1.10.0->torchmetrics) (1.12)\n",
      "Requirement already satisfied: networkx in /Users/steven/anaconda3/envs/m2_sd2022_env/lib/python3.10/site-packages (from torch>=1.10.0->torchmetrics) (3.2.1)\n",
      "Requirement already satisfied: jinja2 in /Users/steven/anaconda3/envs/m2_sd2022_env/lib/python3.10/site-packages (from torch>=1.10.0->torchmetrics) (3.1.3)\n",
      "Requirement already satisfied: fsspec in /Users/steven/anaconda3/envs/m2_sd2022_env/lib/python3.10/site-packages (from torch>=1.10.0->torchmetrics) (2024.3.1)\n",
      "Requirement already satisfied: MarkupSafe>=2.0 in /Users/steven/anaconda3/envs/m2_sd2022_env/lib/python3.10/site-packages (from jinja2->torch>=1.10.0->torchmetrics) (2.1.5)\n",
      "Requirement already satisfied: mpmath>=0.19 in /Users/steven/anaconda3/envs/m2_sd2022_env/lib/python3.10/site-packages (from sympy->torch>=1.10.0->torchmetrics) (1.3.0)\n",
      "Collecting matplotlib\n",
      "  Downloading matplotlib-3.8.4-cp310-cp310-macosx_10_12_x86_64.whl.metadata (5.8 kB)\n",
      "Collecting contourpy>=1.0.1 (from matplotlib)\n",
      "  Downloading contourpy-1.2.1-cp310-cp310-macosx_10_9_x86_64.whl.metadata (5.8 kB)\n",
      "Collecting cycler>=0.10 (from matplotlib)\n",
      "  Using cached cycler-0.12.1-py3-none-any.whl.metadata (3.8 kB)\n",
      "Collecting fonttools>=4.22.0 (from matplotlib)\n",
      "  Downloading fonttools-4.50.0-cp310-cp310-macosx_10_9_x86_64.whl.metadata (159 kB)\n",
      "\u001b[2K     \u001b[90m━━━━━━━━━━━━━━━━━━━━━━━━━━━━━━━━━━━━━━━\u001b[0m \u001b[32m159.4/159.4 kB\u001b[0m \u001b[31m2.0 MB/s\u001b[0m eta \u001b[36m0:00:00\u001b[0ma \u001b[36m0:00:01\u001b[0m\n",
      "\u001b[?25hCollecting kiwisolver>=1.3.1 (from matplotlib)\n",
      "  Using cached kiwisolver-1.4.5-cp310-cp310-macosx_10_9_x86_64.whl.metadata (6.4 kB)\n",
      "Requirement already satisfied: numpy>=1.21 in /Users/steven/anaconda3/envs/m2_sd2022_env/lib/python3.10/site-packages (from matplotlib) (1.26.4)\n",
      "Requirement already satisfied: packaging>=20.0 in /Users/steven/anaconda3/envs/m2_sd2022_env/lib/python3.10/site-packages (from matplotlib) (24.0)\n",
      "Requirement already satisfied: pillow>=8 in /Users/steven/anaconda3/envs/m2_sd2022_env/lib/python3.10/site-packages (from matplotlib) (10.3.0)\n",
      "Collecting pyparsing>=2.3.1 (from matplotlib)\n",
      "  Using cached pyparsing-3.1.2-py3-none-any.whl.metadata (5.1 kB)\n",
      "Requirement already satisfied: python-dateutil>=2.7 in /Users/steven/anaconda3/envs/m2_sd2022_env/lib/python3.10/site-packages (from matplotlib) (2.9.0.post0)\n",
      "Requirement already satisfied: six>=1.5 in /Users/steven/anaconda3/envs/m2_sd2022_env/lib/python3.10/site-packages (from python-dateutil>=2.7->matplotlib) (1.16.0)\n",
      "Downloading matplotlib-3.8.4-cp310-cp310-macosx_10_12_x86_64.whl (7.6 MB)\n",
      "\u001b[2K   \u001b[90m━━━━━━━━━━━━━━━━━━━━━━━━━━━━━━━━━━━━━━━━\u001b[0m \u001b[32m7.6/7.6 MB\u001b[0m \u001b[31m1.8 MB/s\u001b[0m eta \u001b[36m0:00:00\u001b[0m00:01\u001b[0m00:01\u001b[0m\n",
      "\u001b[?25hDownloading contourpy-1.2.1-cp310-cp310-macosx_10_9_x86_64.whl (260 kB)\n",
      "\u001b[2K   \u001b[90m━━━━━━━━━━━━━━━━━━━━━━━━━━━━━━━━━━━━━━━━\u001b[0m \u001b[32m260.8/260.8 kB\u001b[0m \u001b[31m1.8 MB/s\u001b[0m eta \u001b[36m0:00:00\u001b[0ma \u001b[36m0:00:01\u001b[0m\n",
      "\u001b[?25hUsing cached cycler-0.12.1-py3-none-any.whl (8.3 kB)\n",
      "Downloading fonttools-4.50.0-cp310-cp310-macosx_10_9_x86_64.whl (2.3 MB)\n",
      "\u001b[2K   \u001b[90m━━━━━━━━━━━━━━━━━━━━━━━━━━━━━━━━━━━━━━━━\u001b[0m \u001b[32m2.3/2.3 MB\u001b[0m \u001b[31m1.8 MB/s\u001b[0m eta \u001b[36m0:00:00\u001b[0m00:01\u001b[0m00:01\u001b[0m\n",
      "\u001b[?25hUsing cached kiwisolver-1.4.5-cp310-cp310-macosx_10_9_x86_64.whl (68 kB)\n",
      "Using cached pyparsing-3.1.2-py3-none-any.whl (103 kB)\n",
      "Installing collected packages: pyparsing, kiwisolver, fonttools, cycler, contourpy, matplotlib\n",
      "Successfully installed contourpy-1.2.1 cycler-0.12.1 fonttools-4.50.0 kiwisolver-1.4.5 matplotlib-3.8.4 pyparsing-3.1.2\n"
     ]
    }
   ],
   "source": [
    "!mkdir -p contents\n",
    "!pip install pandas\n",
    "!pip install numpy\n",
    "!pip install typing\n",
    "!pip install torch\n",
    "!pip install accelerate\n",
    "!pip install torchvision\n",
    "!pip install tqdm\n",
    "!pip install ipykernel\n",
    "!pip install ipython\n",
    "!pip install scipy\n",
    "!pip install torchmetrics\n",
    "!pip install matplotlib\n",
    "from typing import Dict, Tuple\n",
    "import numpy as np\n",
    "import torch\n",
    "import torch.nn as nn\n",
    "from accelerate import Accelerator\n",
    "from tqdm import tqdm\n",
    "from torch.utils.data import DataLoader\n",
    "from torchvision import transforms\n",
    "from torchvision.datasets import MNIST\n",
    "from torchvision.utils import save_image, make_grid\n",
    "from torch.utils.data import DataLoader, random_split\n",
    "from torchmetrics.image.fid import FrechetInceptionDistance\n",
    "import os\n",
    "import matplotlib.pyplot as plt\n",
    "import matplotlib.image as mpimg\n",
    "import matplotlib.patches as patches\n",
    "import pandas as pd\n",
    "import shutil\n",
    "from scipy.stats import entropy\n",
    "plt.style.use('sd2022.mplstyle')\n",
    "sd2022_blue = '#3772ff'\n",
    "sd2022_red = '#FF033E'\n",
    "sd2022_green = '#05a45c'\n",
    "sd2022_purple = '#994d9e' # DIS logo colour\n",
    "sd2022_orange = '#ff8243'\n",
    "sd2022_yellow = '#fada5e'\n",
    "sd2022_pink = '#df37d6'\n",
    "sd2022_turq = '#30d5c8'\n",
    "sd2022_neongreen = '#0FFF50'\n",
    "sd2022_neonblue = '#4D4DFF'\n",
    "sd2022_gold = '#cfbd62' \n",
    "sd2022_silver = '#C0C0C0'\n",
    "sd2022_bronze =  '#b08d57'"
   ]
  },
  {
   "cell_type": "markdown",
   "metadata": {},
   "source": [
    "## Define Model"
   ]
  },
  {
   "cell_type": "markdown",
   "metadata": {},
   "source": [
    "### Create Noise Schedule"
   ]
  },
  {
   "cell_type": "code",
   "execution_count": 5,
   "metadata": {
    "id": "MMQ1-BSc1y-c"
   },
   "outputs": [],
   "source": [
    "# Linear Noise schedule \n",
    "def ddpm_schedules(beta1: float, beta2: float, T: int) -> Dict[str, torch.Tensor]:\n",
    "    \"\"\"Returns pre-computed schedules for DDPM sampling with a linear noise schedule.\"\"\"\n",
    "    assert beta1 < beta2 < 1.0, \"beta1 and beta2 must be in (0, 1)\"\n",
    "\n",
    "    beta_t = (beta2 - beta1) * torch.arange(0, T + 1, dtype=torch.float32) / T + beta1\n",
    "    alpha_t = torch.exp(torch.cumsum(torch.log(1 - beta_t), dim=0))  # Cumprod in log-space (better precision)\n",
    "\n",
    "    return {\"beta_t\": beta_t, \"alpha_t\": alpha_t}\n"
   ]
  },
  {
   "cell_type": "markdown",
   "metadata": {},
   "source": [
    "### Define CNN"
   ]
  },
  {
   "cell_type": "code",
   "execution_count": 6,
   "metadata": {
    "id": "d16i_bcV1y-d"
   },
   "outputs": [],
   "source": [
    "# CNN Block\n",
    "class CNNBlock(nn.Module):\n",
    "    def __init__(\n",
    "        self,\n",
    "        in_channels,\n",
    "        out_channels,\n",
    "        *,\n",
    "        expected_shape,\n",
    "        act=nn.GELU,\n",
    "        kernel_size=7,\n",
    "    ):\n",
    "        super().__init__()\n",
    "\n",
    "        self.net = nn.Sequential(\n",
    "            nn.Conv2d(in_channels, out_channels, kernel_size, padding=kernel_size // 2),\n",
    "            nn.LayerNorm((out_channels, *expected_shape)),\n",
    "            act()\n",
    "        )\n",
    "\n",
    "    def forward(self, x):\n",
    "        return self.net(x)\n",
    "\n",
    "# CNN Model \n",
    "class CNN(nn.Module):\n",
    "    def __init__(\n",
    "        self,\n",
    "        in_channels,\n",
    "        expected_shape=(28, 28),\n",
    "        n_hidden=(64, 128, 64),\n",
    "        kernel_size=7,\n",
    "        last_kernel_size=3,\n",
    "        time_embeddings=16,\n",
    "        act=nn.GELU,\n",
    "    ) -> None:\n",
    "        super().__init__()\n",
    "        last = in_channels\n",
    "\n",
    "        self.blocks = nn.ModuleList()\n",
    "        for hidden in n_hidden:\n",
    "            self.blocks.append(\n",
    "                CNNBlock(\n",
    "                    last,\n",
    "                    hidden,\n",
    "                    expected_shape=expected_shape,\n",
    "                    kernel_size=kernel_size,\n",
    "                    act=act,\n",
    "                )\n",
    "            )\n",
    "            last = hidden\n",
    "\n",
    "        # The final layer, we use a regular Conv2d to get the\n",
    "        # correct scale and shape (and avoid applying the activation)\n",
    "        self.blocks.append(\n",
    "            nn.Conv2d(\n",
    "                last,\n",
    "                in_channels,\n",
    "                last_kernel_size,\n",
    "                padding=last_kernel_size // 2,\n",
    "            )\n",
    "        )\n",
    "\n",
    "        ## This part is literally just to put the single scalar \"t\" into the CNN\n",
    "        ## in a nice, high-dimensional way:\n",
    "        self.time_embed = nn.Sequential(\n",
    "            nn.Linear(time_embeddings * 2, 128), act(),\n",
    "            nn.Linear(128, 128), act(),\n",
    "            nn.Linear(128, 128), act(),\n",
    "            nn.Linear(128, n_hidden[0]),\n",
    "        )\n",
    "        frequencies = torch.tensor(\n",
    "            [0] + [2 * np.pi * 1.5**i for i in range(time_embeddings - 1)]\n",
    "        )\n",
    "        self.register_buffer(\"frequencies\", frequencies)\n",
    "\n",
    "    def time_encoding(self, t: torch.Tensor) -> torch.Tensor:\n",
    "        phases = torch.concat(\n",
    "            (\n",
    "                torch.sin(t[:, None] * self.frequencies[None, :]),\n",
    "                torch.cos(t[:, None] * self.frequencies[None, :]) - 1,\n",
    "            ),\n",
    "            dim=1,\n",
    "        )\n",
    "\n",
    "        return self.time_embed(phases)[:, :, None, None]\n",
    "\n",
    "    def forward(self, x: torch.Tensor, t: torch.Tensor) -> torch.Tensor:\n",
    "        # Shapes of input:\n",
    "        #    x: (batch, chan, height, width)\n",
    "        #    t: (batch,)\n",
    "\n",
    "        embed = self.blocks[0](x)\n",
    "        # ^ (batch, n_hidden[0], height, width)\n",
    "\n",
    "        # Add information about time along the diffusion process\n",
    "        #  (Providing this information by superimposing in latent space)\n",
    "        embed += self.time_encoding(t)\n",
    "        #         ^ (batch, n_hidden[0], 1, 1) - thus, broadcasting\n",
    "        #           to the entire spatial domain\n",
    "\n",
    "        for block in self.blocks[1:]:\n",
    "            embed = block(embed)\n",
    "\n",
    "        return embed"
   ]
  },
  {
   "cell_type": "markdown",
   "metadata": {},
   "source": [
    "### Diffusion Model"
   ]
  },
  {
   "cell_type": "code",
   "execution_count": 7,
   "metadata": {
    "id": "pCZe8Q651y-d"
   },
   "outputs": [],
   "source": [
    "# DDPM Model\n",
    "class DDPM(nn.Module):\n",
    "    def __init__(\n",
    "        self,\n",
    "        gt,\n",
    "        betas: Tuple[float, float],\n",
    "        n_T: int,\n",
    "        criterion: nn.Module = nn.MSELoss(),\n",
    "    ) -> None:\n",
    "        super().__init__()\n",
    "\n",
    "        self.gt = gt\n",
    "\n",
    "        noise_schedule = ddpm_schedules(betas[0], betas[1], n_T)\n",
    "\n",
    "        # `register_buffer` will track these tensors for device placement, but\n",
    "        # not store them as model parameters. This is useful for constants.\n",
    "        self.register_buffer(\"beta_t\", noise_schedule[\"beta_t\"])\n",
    "        self.beta_t  # Exists! Set by register_buffer\n",
    "        self.register_buffer(\"alpha_t\", noise_schedule[\"alpha_t\"])\n",
    "        self.alpha_t\n",
    "\n",
    "        self.n_T = n_T\n",
    "        self.criterion = criterion\n",
    "\n",
    "    # Include a function to output z_t\n",
    "    def forward_show(self, t, x: torch.Tensor) -> torch.Tensor:\n",
    "        eps = torch.randn_like(x)\n",
    "        alpha_t = self.alpha_t[t, None, None, None]\n",
    "        z_t = torch.sqrt(alpha_t) * x + torch.sqrt(1 - alpha_t) * eps\n",
    "        return z_t\n",
    "\n",
    "    def forward(self, x: torch.Tensor) -> torch.Tensor:\n",
    "        \"\"\"Algorithm 18.1 in Prince\"\"\"\n",
    "        t = torch.randint(1, self.n_T, (x.shape[0],), device=x.device)\n",
    "        eps = torch.randn_like(x)  # eps ~ N(0, 1)\n",
    "        alpha_t = self.alpha_t[t, None, None, None]  # Get right shape for broadcasting\n",
    "        z_t = torch.sqrt(alpha_t) * x + torch.sqrt(1 - alpha_t) * eps\n",
    "        # This is the z_t, which is sqrt(alphabar) x_0 + sqrt(1-alphabar) * eps\n",
    "        # We should predict the \"error term\" from this z_t. Loss is what we return.\n",
    "\n",
    "        return self.criterion(eps, self.gt(z_t, t / self.n_T))\n",
    "\n",
    "    def sample(self, n_sample: int, size, device) -> torch.Tensor:\n",
    "        \"\"\"Algorithm 18.2 in Prince\"\"\"\n",
    "\n",
    "        _one = torch.ones(n_sample, device=device)\n",
    "        z_t = torch.randn(n_sample, *size, device=device)\n",
    "        for i in range(self.n_T, 0, -1):\n",
    "            alpha_t = self.alpha_t[i]\n",
    "            beta_t = self.beta_t[i]\n",
    "\n",
    "            # First line of loop:\n",
    "            z_t -= (beta_t / torch.sqrt(1 - alpha_t)) * self.gt(z_t, (i/self.n_T) * _one)\n",
    "            z_t /= torch.sqrt(1 - beta_t)\n",
    "\n",
    "            if i > 1:\n",
    "                # Last line of loop:\n",
    "                z_t += torch.sqrt(beta_t) * torch.randn_like(z_t)\n",
    "            # (We don't add noise at the final step - i.e., the last line of the algorithm)\n",
    "\n",
    "        return z_t"
   ]
  },
  {
   "cell_type": "markdown",
   "metadata": {},
   "source": [
    "### Hyperparameters"
   ]
  },
  {
   "cell_type": "code",
   "execution_count": 8,
   "metadata": {},
   "outputs": [],
   "source": [
    "# CNN hyperparameters\n",
    "n_hidden = (16, 32, 32, 16) \n",
    "activation = nn.GELU\n",
    "\n",
    "# DDPM hyperparameters\n",
    "betas = (1e-4, 0.02) \n",
    "n_T = 1000\n",
    "\n",
    "# Training hyperparameters\n",
    "learning_rate = 2e-4\n",
    "\n",
    "# Model and optimizer\n",
    "gt = CNN(in_channels=1, expected_shape=(28, 28), n_hidden=n_hidden, act=activation)\n",
    "ddpm = DDPM(gt=gt, betas=betas, n_T=n_T)\n",
    "optim = torch.optim.Adam(ddpm.parameters(), lr=learning_rate)"
   ]
  },
  {
   "cell_type": "markdown",
   "metadata": {},
   "source": [
    "## MNIST Data"
   ]
  },
  {
   "cell_type": "markdown",
   "metadata": {},
   "source": [
    "### Training and Validation Data Loader"
   ]
  },
  {
   "cell_type": "code",
   "execution_count": 10,
   "metadata": {
    "id": "a6jMrCRa1y-d"
   },
   "outputs": [],
   "source": [
    "# Data loaders\n",
    "tf = transforms.Compose([transforms.ToTensor(), transforms.Normalize((0.5,), (1.0))])\n",
    "dataset = MNIST(\"../data\", train=True, download=True, transform=tf)\n",
    "dataloader = DataLoader(dataset, batch_size=128, shuffle=True, num_workers=4, drop_last=True)\n",
    "\n",
    "# Define the sizes for training and validation sets\n",
    "train_size = int(0.8 * len(dataset))\n",
    "validation_size = len(dataset) - train_size\n",
    "\n",
    "# Perform the split\n",
    "train_dataset, validation_dataset = random_split(dataset, [train_size, validation_size])\n",
    "\n",
    "# Create DataLoader for the training dataset\n",
    "train_dataloader = DataLoader(train_dataset, batch_size=128, shuffle=True, num_workers=4, drop_last=True)\n",
    "\n",
    "# Create DataLoader for the validation dataset\n",
    "validation_dataloader = DataLoader(validation_dataset, batch_size=128, shuffle=False, num_workers=4)\n"
   ]
  },
  {
   "cell_type": "markdown",
   "metadata": {},
   "source": [
    "## Training and Sampling"
   ]
  },
  {
   "cell_type": "markdown",
   "metadata": {},
   "source": [
    "### Device Placement"
   ]
  },
  {
   "cell_type": "code",
   "execution_count": 13,
   "metadata": {},
   "outputs": [],
   "source": [
    "# Define model and optimizer\n",
    "gt = CNN(in_channels=1, expected_shape=(28, 28), n_hidden=n_hidden, act=activation)\n",
    "ddpm = DDPM(gt=gt, betas=betas, n_T=n_T)\n",
    "optim = torch.optim.Adam(ddpm.parameters(), lr=learning_rate)\n",
    "\n",
    "# Define accelerator\n",
    "accelerator = Accelerator()\n",
    "\n",
    "# Wrap the model, optimizer, and data loaders\n",
    "ddpm, optim, train_dataloader, validation_dataloader = accelerator.prepare(\n",
    "    ddpm, optim, train_dataloader, validation_dataloader)"
   ]
  },
  {
   "cell_type": "markdown",
   "metadata": {},
   "source": [
    "### Test"
   ]
  },
  {
   "cell_type": "code",
   "execution_count": 14,
   "metadata": {
    "id": "8wxKbzEa1y-e"
   },
   "outputs": [
    {
     "name": "stdout",
     "output_type": "stream",
     "text": [
      "t=0 -> alpha_t=0.9998999834060669\n",
      "t=50 -> alpha_t=0.9699761271476746\n",
      "t=100 -> alpha_t=0.8952316641807556\n",
      "t=250 -> alpha_t=0.5217500925064087\n",
      "t=500 -> alpha_t=0.07799234241247177\n",
      "t=750 -> alpha_t=0.0033189160749316216\n",
      "t=999 -> alpha_t=4.076739787706174e-05\n"
     ]
    },
    {
     "name": "stderr",
     "output_type": "stream",
     "text": [
      "Clipping input data to the valid range for imshow with RGB data ([0..1] for floats or [0..255] for integers).\n"
     ]
    },
    {
     "data": {
      "image/png": "[encoded data removed]",
      "text/plain": [
       "<Figure size 2000x2000 with 1 Axes>"
      ]
     },
     "metadata": {},
     "output_type": "display_data"
    }
   ],
   "source": [
    "# Test\n",
    "for x, _ in train_dataloader:\n",
    "    break\n",
    "\n",
    "# Plot degradation process for an example image\n",
    "with torch.no_grad():\n",
    "    x_first = x[0].unsqueeze(0)\n",
    "    t_list = [0,50,100,250,500,750,999]\n",
    "    noisy_images = []\n",
    "    for t in t_list:\n",
    "        noisy_image = ddpm.forward_show(t, x_first)\n",
    "        noisy_images.append(noisy_image)\n",
    "        print(f\"t={t} -> alpha_t={ddpm.alpha_t[t]}\")\n",
    "    noisy_images_tensor = torch.cat(noisy_images, dim=0)\n",
    "    noisy_images_tensor = noisy_images_tensor.to(x.device)\n",
    "    noisy_images_grid = make_grid(noisy_images_tensor, nrow=len(t_list), padding=2, normalize=False)\n",
    "    plt.figure(figsize=(20, 20))\n",
    "    plt.axis(\"off\")\n",
    "    plt.imshow(noisy_images_grid.permute(1, 2, 0).cpu())\n",
    "    plt.show()"
   ]
  },
  {
   "cell_type": "markdown",
   "metadata": {},
   "source": [
    "## Training Loop"
   ]
  },
  {
   "cell_type": "code",
   "execution_count": 15,
   "metadata": {
    "colab": {
     "base_uri": "https://localhost:8080/"
    },
    "id": "LLiE8x-c1y-e",
    "outputId": "a9f81c32-96c2-4e3b-cee9-fd2d2d4e316c"
   },
   "outputs": [
    {
     "name": "stdout",
     "output_type": "stream",
     "text": [
      "Epoch 1/5\n"
     ]
    },
    {
     "name": "stderr",
     "output_type": "stream",
     "text": [
      "Training loss: 0.123: 100%|██████████| 375/375 [00:37<00:00, 10.07it/s]\n",
      "Validation loss: 0.0586: 100%|██████████| 94/94 [00:05<00:00, 16.86it/s]\n"
     ]
    },
    {
     "name": "stdout",
     "output_type": "stream",
     "text": [
      "Epoch 2/5\n"
     ]
    },
    {
     "name": "stderr",
     "output_type": "stream",
     "text": [
      "Training loss: 0.0504:  87%|████████▋ | 325/375 [00:28<00:04, 11.21it/s]"
     ]
    },
    {
     "name": "stdout",
     "output_type": "stream",
     "text": [
      "Training interrupted. Saving progress...\n",
      "Checkpoint and losses saved.\n"
     ]
    },
    {
     "name": "stderr",
     "output_type": "stream",
     "text": [
      "\n"
     ]
    }
   ],
   "source": [
    "# Define number of epochs and initialis losses\n",
    "n_epoch = 75\n",
    "training_losses = []\n",
    "validation_losses = []\n",
    "\n",
    "# Directory to save checkpoints and losses\n",
    "act_string = str(activation).split('.')[-1].split('\\'')[0]\n",
    "base_directory_path = f\"../contents/RUN_cnn-nh{n_hidden}-act{act_string}_ddpm-b{betas}-nt{n_T}_lr{learning_rate}\"\n",
    "directory_path = base_directory_path\n",
    "counter = 1\n",
    "while os.path.exists(directory_path):\n",
    "    directory_path = f\"{base_directory_path}({counter})\"\n",
    "    counter += 1\n",
    "os.makedirs(directory_path, exist_ok=True)\n",
    "\n",
    "# Training and Validation\n",
    "try:\n",
    "    # Training Loop\n",
    "    for epoch in range(n_epoch):\n",
    "        ddpm.train()\n",
    "        batch_losses = []  \n",
    "        print(f\"Epoch {epoch+1}/{n_epoch}\")\n",
    "        pbar_train = tqdm(train_dataloader, desc=f\"Epoch {epoch+1}/{n_epoch} - Training\")\n",
    "        for x, _ in pbar_train:\n",
    "            x = x.to(accelerator.device)\n",
    "            optim.zero_grad()\n",
    "            loss = ddpm(x)\n",
    "            accelerator.backward(loss)\n",
    "            batch_losses.append(loss.item())\n",
    "            optim.step()\n",
    "            avg_loss = np.average(batch_losses)\n",
    "            pbar_train.set_description(f\"Training loss: {avg_loss:.3g}\")\n",
    "\n",
    "        training_losses.append(np.mean(batch_losses)) \n",
    "\n",
    "        # Validation Loop\n",
    "        ddpm.eval()\n",
    "        batch_val_losses = []\n",
    "        pbar_val = tqdm(validation_dataloader, desc=f\"Epoch {epoch+1}/{n_epoch} - Validation\")\n",
    "        with torch.no_grad():\n",
    "            for x_val, _ in pbar_val:\n",
    "                x_val = x_val.to(accelerator.device)\n",
    "                val_loss = ddpm(x_val)\n",
    "                batch_val_losses.append(val_loss.item())\n",
    "                avg_val_loss = np.average(batch_val_losses)\n",
    "                pbar_val.set_description(f\"Validation loss: {avg_val_loss:.3g}\")\n",
    "\n",
    "        validation_losses.append(np.mean(batch_val_losses))\n",
    "        \n",
    "        # Save model weights after each epoch\n",
    "        checkpoint_path = os.path.join(directory_path, f\"checkpoint_epoch_{epoch+1}.pth\")\n",
    "        torch.save(ddpm.state_dict(), checkpoint_path)\n",
    "\n",
    "        # Generate and save sample images after every epoch\n",
    "        with torch.no_grad():\n",
    "            xh = ddpm.sample(16, (1, 28, 28), accelerator.device)\n",
    "            grid = make_grid(xh, nrow=4)\n",
    "            save_image(grid, f\"{directory_path}/sample_{epoch:04d}.png\")\n",
    "\n",
    "except KeyboardInterrupt:\n",
    "    print(\"Training interrupted. Saving progress...\")\n",
    "    print(base_directory_path)\n",
    "    pass\n",
    "finally:\n",
    "    # Save losses and final model\n",
    "    np.save(f\"{directory_path}/training_losses.npy\", np.array(training_losses))\n",
    "    np.save(f\"{directory_path}/validation_losses.npy\", np.array(validation_losses))\n",
    "    final_model_path = os.path.join(directory_path, \"final_model.pth\")\n",
    "    torch.save(ddpm.state_dict(), final_model_path)\n",
    "    print(\"Checkpoint and losses saved.\")"
   ]
  },
  {
   "cell_type": "markdown",
   "metadata": {},
   "source": [
    "## Performance Metrics"
   ]
  },
  {
   "cell_type": "markdown",
   "metadata": {},
   "source": [
    "### Training and Validation Loss Curves"
   ]
  },
  {
   "cell_type": "code",
   "execution_count": 18,
   "metadata": {},
   "outputs": [
    {
     "name": "stdout",
     "output_type": "stream",
     "text": [
      "Contents of the directory:\n",
      "RUN_cnn-nh(16, 32, 32, 16)-actGELU_ddpm-b(0.0001, 0.02)-nt1000_lr0.0002(4)\n",
      "SALTPEPPER_cnn-nh(32, 64, 128, 64, 32)-actGELU_ddpm-b(0.05, 0.495)-nt200_lr0.001(3)\n",
      "SALTPEPPER_cnn-nh(32, 64, 128, 64, 32)-actGELU_ddpm-b(0.05, 0.495)-nt200_lr0.001(9)\n",
      ".DS_Store\n",
      "RUN_cnn-nh(32, 64, 128, 64, 32)-actGELU_ddpm-b(0.1, 0.8)-nt200_lr0.001\n",
      "SALTPEPPER_cnn-nh(32, 64, 128, 64, 32)-actGELU_ddpm-b(0.1, 0.8)-nt120_lr0.001\n",
      "SALTPEPPER_cnn-nh(32, 64, 128, 64, 32)-actGELU_ddpm-b(0.05, 0.25)-nt120_lr0.0005\n",
      "SALTPEPPER_cnn-nh(32, 64, 128, 64, 32)-actGELU_ddpm-b(0.05, 0.495)-nt200_lr0.001(12)\n",
      "SALTPEPPER_cnn-nh(32, 64, 128, 64, 32)-actGELU_ddpm-b(0.05, 0.495)-nt200_lr0.001(11)\n",
      "SALTPEPPER_cnn-nh(32, 64, 128, 64, 32)-actGELU_ddpm-b(0.05, 0.495)-nt200_lr0.001(7)\n",
      "SALTPEPPER_cnn-nh(32, 64, 128, 256, 128, 64, 32)-actGELU_ddpm-b(0.05, 0.495)-nt60_lr0.001\n",
      "SALTPEPPER_cnn-nh(32, 64, 128, 64, 32)-actGELU_ddpm-b(0.05, 0.495)-nt200_lr0.001\n",
      "SALTPEPPER_cnn-nh(32, 64, 128, 64, 32)-actGELU_ddpm-b(0.05, 0.495)-nt200_lr0.001(4)\n",
      "SALTPEPPER_cnn-nh(32, 64, 128, 64, 32)-actGELU_ddpm-b(0.05, 0.495)-nt200_lr0.001(5)\n",
      "SALTPEPPER_cnn-nh(32, 64, 128, 64, 32)-actGELU_ddpm-b(0.05, 0.495)-nt200_lr0.001(6)\n",
      "SALTPEPPER_cnn-nh(32, 64, 128, 64, 32)-actGELU_ddpm-b(0.02, 0.2)-nt120_lr0.0005\n",
      "SALTPEPPER_cnn-nh(32, 64, 128, 64, 32)-actGELU_ddpm-b(0.05, 0.3)-nt300_lr0.0005\n",
      "SALTPEPPER_cnn-nh(32, 64, 128, 64, 32)-actGELU_ddpm-b(0.05, 0.4)-nt80_lr0.001(2)\n",
      "SALTPEPPER_cnn-nh(32, 64, 128, 64, 32)-actGELU_ddpm-b(0.05, 0.495)-nt200_lr0.001(10)\n",
      "SALTPEPPER_cnn-nh(32, 64, 128, 64, 32)-actGELU_ddpm-b(0.05, 0.25)-nt80_lr0.0005\n",
      "SALTPEPPER_cnn-nh(32, 64, 128, 64, 32)-actGELU_ddpm-b(0.05, 0.4)-nt80_lr0.001(1)\n",
      "RUN_cnn-nh(16, 32, 32, 16)-actGELU_ddpm-b(0.0001, 0.02)-nt1000_lr0.0002\n",
      "SALTPEPPER_cnn-nh(32, 64, 128, 64, 32)-actGELU_ddpm-b(0.05, 0.495)-nt200_lr0.001(13)\n",
      "RUN_cnn-nh(32, 64, 128, 64, 32)-actGELU_ddpm-b(0.0001, 0.05)-nt1200_lr0.001(1)\n",
      "SALTPEPPER_cnn-nh(32, 64, 128, 64, 32)-actGELU_ddpm-b(0.05, 0.495)-nt200_lr0.001(14)\n",
      "SALTPEPPER_cnn-nh(32, 64, 128, 64, 32)-actGELU_ddpm-b(0.05, 0.495)-nt200_lr0.001(2)\n",
      "RUN_cnn-nh(32, 64, 128, 64, 32)-actGELU_ddpm-b(0.0001, 0.05)-nt1200_lr0.001\n",
      "SALTPEPPER_cnn-nh(32, 64, 128, 64, 32)-actGELU_ddpm-b(0.05, 0.495)-nt200_lr0.001(8)\n",
      "SALTPEPPER_cnn-nh(32, 64, 128, 64, 32)-actGELU_ddpm-b(0.05, 0.495)-nt200_lr0.001(1)\n",
      "SALTPEPPER_cnn-nh(32, 64, 128, 64, 32)-actGELU_ddpm-b(0.05, 0.495)-nt40_lr0.001\n",
      "SALTPEPPER_cnn-nh(32, 64, 128, 64, 32)-actGELU_ddpm-b(0.05, 0.4)-nt80_lr0.001\n"
     ]
    }
   ],
   "source": [
    "# Directoy of the contents\n",
    "directory_path = '../contents'\n",
    "\n",
    "if os.path.exists(directory_path):\n",
    "    print(\"Contents of the directory:\")\n",
    "    for item in os.listdir(directory_path):\n",
    "        print(item)\n",
    "else:\n",
    "    print(f\"No such directory: {directory_path}\")"
   ]
  },
  {
   "cell_type": "code",
   "execution_count": 91,
   "metadata": {},
   "outputs": [
    {
     "name": "stdout",
     "output_type": "stream",
     "text": [
      "Average training loss: 0.02143858782141595\n",
      "Average validation loss: 0.021337184582260138\n",
      "Final training loss: 0.01802604385217031\n",
      "Final validation loss: 0.018474471626525865\n",
      "Minimum validation loss: 0.017652459125569526\n",
      "Epoch of minimum validation loss: 68\n"
     ]
    },
    {
     "data": {
      "image/png": "[encoded data removed]",
      "text/plain": [
       "<Figure size 550x400 with 1 Axes>"
      ]
     },
     "metadata": {},
     "output_type": "display_data"
    }
   ],
   "source": [
    "# Select Run to load (copy paste from above)\n",
    "run_name = \"RUN_cnn-nh(16, 32, 32, 16)-actGELU_ddpm-b(0.0001, 0.02)-nt1000_lr0.0002(4)\"\n",
    "\n",
    "# Load the losses\n",
    "training_losses = np.load(f\"../contents/{run_name}/training_losses.npy\")[1:]\n",
    "validation_losses = np.load(f\"../contents/{run_name}/validation_losses.npy\")[1:]\n",
    "\n",
    "# Visualize the losses\n",
    "plt.figure(figsize=(5.5, 4))\n",
    "plt.plot(range(1,75),training_losses, label=\"Training loss\", linestyle = '-.', color = 'black')\n",
    "plt.plot(range(1,75),validation_losses, label=\"Validation loss\", color=sd2022_blue)\n",
    "plt.xlabel(\"Epoch\")\n",
    "plt.ylabel(\"Loss\")\n",
    "plt.xlim(0,75)\n",
    "plt.legend()\n",
    "print(\"Average training loss:\", np.mean(training_losses))\n",
    "print(\"Average validation loss:\", np.mean(validation_losses))\n",
    "print(\"Final training loss:\", training_losses[-1])\n",
    "print(\"Final validation loss:\", validation_losses[-1])\n",
    "print(\"Minimum validation loss:\", np.min(validation_losses))\n",
    "print(\"Epoch of minimum validation loss:\", np.argmin(validation_losses)+1)\n",
    "\n"
   ]
  },
  {
   "cell_type": "markdown",
   "metadata": {},
   "source": [
    "### FID Score "
   ]
  },
  {
   "cell_type": "code",
   "execution_count": 78,
   "metadata": {},
   "outputs": [
    {
     "name": "stdout",
     "output_type": "stream",
     "text": [
      "Interrupted.\n"
     ]
    }
   ],
   "source": [
    "try:\n",
    "    # Get real images\n",
    "    real_images_list = []\n",
    "    images_needed = 100\n",
    "    for images, _ in train_dataloader:\n",
    "        real_images_list.append(images.to(accelerator.device))\n",
    "        if sum(len(images) for images in real_images_list) >= images_needed:\n",
    "            break  \n",
    "    real_images = torch.cat(real_images_list, dim=0)[:images_needed]\n",
    "\n",
    "    # Load the model \n",
    "    run_name = \"RUN_cnn-nh(16, 32, 32, 16)-actGELU_ddpm-b(0.0001, 0.02)-nt1000_lr0.0002(4)\"\n",
    "    epochs = [10, 68, 75]\n",
    "\n",
    "    def get_fake_images(epoch, run_name):\n",
    "        \"\"\"Get generated images from the model at a specific epoch.\n",
    "        \"\"\"\n",
    "        ddpm = DDPM(gt=gt, betas=(1e-4, 0.02), n_T=1200)\n",
    "        checkpoint_path = f'../contents/{run_name}/checkpoint_epoch_{epoch}.pth'\n",
    "        model = torch.load(checkpoint_path)\n",
    "        # Get fake images\n",
    "        with torch.no_grad():\n",
    "            ddpm.load_state_dict(model)\n",
    "            ddpm.to('cpu')\n",
    "            fake_images = ddpm.sample(images_needed, (1, 28, 28), device='cpu')\n",
    "        return fake_images\n",
    "\n",
    "    # Calculate the FID score\n",
    "    def calculate_fid_score(real_images, fake_images):\n",
    "        \"\"\"Calculate the FID score between real and generated images.\n",
    "        \"\"\"\n",
    "        # Prepare the images\n",
    "        real_images_rgb, fake_images_rgb = real_images.repeat(1, 3, 1, 1), fake_images.repeat(1, 3, 1, 1)\n",
    "        real_images_rgb, fake_images_rgb = real_images_rgb.to('cpu'), fake_images_rgb.to('cpu')\n",
    "        real_images_rgb, fake_images_rgb = (real_images_rgb + 0.5) / (torch.max(real_images_rgb) - torch.min(real_images_rgb)), (fake_images_rgb - torch.min(fake_images_rgb)) / (torch.max(fake_images_rgb) - torch.min(fake_images_rgb))\n",
    "        real_images_rgb = real_images_rgb.float() \n",
    "        fake_images_rgb = fake_images_rgb.float()\n",
    "        # Calculate FID score\n",
    "        with torch.no_grad():\n",
    "            fid = FrechetInceptionDistance(normalize=True)\n",
    "            for i in range(10):\n",
    "                batch_real = real_images_rgb[i*10:(i+1)*10].float()  \n",
    "                batch_fake = fake_images_rgb[i*10:(i+1)*10].float() \n",
    "                if batch_real.size(0) > 0 and batch_fake.size(0) > 0:\n",
    "                    fid.update(batch_real, real=True)\n",
    "                    fid.update(batch_fake, real=False)\n",
    "        print(f\"FID: {float(fid.compute())}\")\n",
    "        return float(fid.compute())\n",
    "\n",
    "    # Save FID scores\n",
    "    fid_scores = []\n",
    "    for epoch in epochs:\n",
    "        fake_images = get_fake_images(epoch, run_name)\n",
    "        fid_score = calculate_fid_score(real_images, fake_images)\n",
    "        fid_scores.append(fid_score)\n",
    "\n",
    "    df_fid = pd.DataFrame(fid_scores, columns=[\"FID score\"], index=epochs)\n",
    "    df_fid.to_csv(f\"../contents/{run_name}/fid_scores.csv\")\n",
    "\n",
    "except KeyboardInterrupt:\n",
    "    print(\"Interrupted.\")\n",
    "    pass"
   ]
  },
  {
   "cell_type": "code",
   "execution_count": 79,
   "metadata": {},
   "outputs": [
    {
     "data": {
      "image/png": "[encoded data removed]",
      "text/plain": [
       "<Figure size 550x400 with 1 Axes>"
      ]
     },
     "metadata": {},
     "output_type": "display_data"
    }
   ],
   "source": [
    "# Load the FID scores\n",
    "run_name = \"RUN_cnn-nh(16, 32, 32, 16)-actGELU_ddpm-b(0.0001, 0.02)-nt1000_lr0.0002(4)\"\n",
    "run_name2 = \"RUN_cnn-nh(32, 64, 128, 64, 32)-actGELU_ddpm-b(0.0001, 0.05)-nt1200_lr0.001\"\n",
    "df_fid = pd.read_csv(f\"../contents/{run_name}/fid_scores.csv\", index_col=0)\n",
    "df_fid2 = pd.read_csv(f\"../contents/{run_name2}/fid_scores.csv\", index_col=0)\n",
    "\n",
    "# Visualize the FID scores\n",
    "plt.figure(figsize=(5.5, 4))\n",
    "plt.plot(df_fid, marker='.', color=sd2022_blue, label = 'Model 1')\n",
    "plt.plot(df_fid2, marker='.', color=sd2022_red, label = 'Model 2')\n",
    "plt.xlabel(\"Epoch\")\n",
    "plt.ylabel(r'$FID$')\n",
    "plt.legend()\n",
    "plt.show()\n",
    "\n"
   ]
  },
  {
   "cell_type": "markdown",
   "metadata": {},
   "source": [
    "### IS Score"
   ]
  },
  {
   "cell_type": "code",
   "execution_count": 80,
   "metadata": {},
   "outputs": [
    {
     "data": {
      "text/plain": [
       "<All keys matched successfully>"
      ]
     },
     "execution_count": 80,
     "metadata": {},
     "output_type": "execute_result"
    }
   ],
   "source": [
    "# Define the CNN classifier\n",
    "class CNN(nn.Module):\n",
    "    def __init__(self):\n",
    "        super(CNN, self).__init__()\n",
    "        self.conv1 = nn.Sequential(         \n",
    "            nn.Conv2d(\n",
    "                in_channels=1,              \n",
    "                out_channels=16,            \n",
    "                kernel_size=5,              \n",
    "                stride=1,                   \n",
    "                padding=2,                  \n",
    "            ),                              \n",
    "            nn.ReLU(),                      \n",
    "            nn.MaxPool2d(kernel_size=2),    \n",
    "        )\n",
    "        self.conv2 = nn.Sequential(         \n",
    "            nn.Conv2d(16, 32, 5, 1, 2),     \n",
    "            nn.ReLU(),                      \n",
    "            nn.MaxPool2d(2),                \n",
    "        )\n",
    "        self.out = nn.Linear(32 * 7 * 7, 10)\n",
    "    def forward(self, x):\n",
    "        x = self.conv1(x)\n",
    "        x = self.conv2(x)\n",
    "        x = x.view(x.size(0), -1)       \n",
    "        output = self.out(x)\n",
    "        return output, x  \n",
    "\n",
    "model = CNN()\n",
    "model.to(accelerator.device)\n",
    "\n",
    "# Load the CNN classifier\n",
    "cnn_model_name = \"../classifier_models/cnn_classifier4.pth\"\n",
    "state_dict = torch.load(cnn_model_name, map_location=accelerator.device)\n",
    "model.load_state_dict(state_dict)"
   ]
  },
  {
   "cell_type": "code",
   "execution_count": 81,
   "metadata": {},
   "outputs": [
    {
     "name": "stdout",
     "output_type": "stream",
     "text": [
      "Interrupted.\n"
     ]
    }
   ],
   "source": [
    "try:\n",
    "    # Define DDPM\n",
    "    run_name = \"RUN_cnn-nh(16, 32, 32, 16)-actGELU_ddpm-b(0.0001, 0.02)-nt1000_lr0.0002(4)\"\n",
    "    ep = 68\n",
    "\n",
    "    # Generate samples\n",
    "    def generate_images(epoch, run_name, n_images):\n",
    "        \"\"\"Sample images from the model at a specific epoch.\"\"\"\n",
    "        ddpm = DDPM(gt=gt, betas=(1e-4, 0.02), n_T=1000)\n",
    "        checkpoint_path = f'../contents/{run_name}/checkpoint_epoch_{epoch}.pth'\n",
    "        model = torch.load(checkpoint_path)\n",
    "        # Get fake images\n",
    "        with torch.no_grad():\n",
    "            ddpm.load_state_dict(model)\n",
    "            ddpm.to(accelerator.device)\n",
    "            images = ddpm.sample(n_images, (1, 28, 28), device=accelerator.device)\n",
    "        return images\n",
    "\n",
    "    images = generate_images(ep, run_name, 1000)\n",
    "    images100 = images[:100]\n",
    "    images_grid = make_grid(images100, nrow=10, padding=2, normalize=False)\n",
    "    plt.figure(figsize=(10, 10))\n",
    "    plt.axis(\"off\")\n",
    "    plt.imshow(images_grid.permute(1, 2, 0).cpu())\n",
    "\n",
    "\n",
    "    # Predict labels for the images\n",
    "    def predict_labels(images, model):\n",
    "        \"\"\"Predict labels for the images using the CNN classifier.\"\"\"\n",
    "        model.eval()\n",
    "        images = images.to(accelerator.device)\n",
    "        with torch.no_grad():\n",
    "            test_output, last_layer = model(images)\n",
    "            predicted = torch.max(test_output, 1)[1].data.squeeze()\n",
    "        return predicted, last_layer\n",
    "\n",
    "    predicted_labels, last_layer = predict_labels(images, model)\n",
    "    predicted_labels = predicted_labels.cpu()\n",
    "    last_layer = last_layer.cpu()\n",
    "\n",
    "    # Save the predicted labels\n",
    "    df = pd.DataFrame(predicted_labels.numpy(), columns=[\"Predicted labels\"])\n",
    "    df.to_csv(f\"../contents/{run_name}/predicted_labels.csv\")\n",
    "\n",
    "    # Save the last layer predictions\n",
    "    np.save(f\"../contents/{run_name}/last_layer.npy\", last_layer.numpy())\n",
    "\n",
    "    # Clear existing directories and save images in new directories based on predicted labels\n",
    "    for i in range(10):\n",
    "        dir_path = f\"../contents/{run_name}/predicted_labels/{i}\"\n",
    "        if os.path.exists(dir_path):\n",
    "            shutil.rmtree(dir_path)\n",
    "        os.makedirs(dir_path, exist_ok=True)\n",
    "\n",
    "    # Save images in folders depending on prediction\n",
    "    for i in range(1000):\n",
    "        save_image(images[i].unsqueeze(0), f\"../contents/{run_name}/predicted_labels/{predicted_labels[i]}/{i}.png\")\n",
    "\n",
    "except KeyboardInterrupt:\n",
    "    print(\"Interrupted.\")\n",
    "    pass\n"
   ]
  },
  {
   "cell_type": "code",
   "execution_count": 82,
   "metadata": {},
   "outputs": [
    {
     "data": {
      "image/png": "[encoded data removed]",
      "text/plain": [
       "<Figure size 550x400 with 1 Axes>"
      ]
     },
     "metadata": {},
     "output_type": "display_data"
    }
   ],
   "source": [
    "# Load the predicted labels\n",
    "df = pd.read_csv(f\"../contents/{run_name}/predicted_labels.csv\")\n",
    "predicted_labels = df[\"Predicted labels\"].values\n",
    "\n",
    "# Plot prediction histogram\n",
    "label_freq = [np.sum(predicted_labels == i) for i in range(10)]\n",
    "plt.figure(figsize=(5.5, 4))\n",
    "plt.bar(range(10), label_freq, color=sd2022_blue)\n",
    "plt.xticks(range(10), labels=[str(i) for i in range(10)])\n",
    "plt.minorticks_off()\n",
    "plt.xlabel(\"Label\")\n",
    "plt.ylabel(\"Frequency\")\n",
    "plt.show()"
   ]
  },
  {
   "cell_type": "code",
   "execution_count": 90,
   "metadata": {},
   "outputs": [
    {
     "name": "stdout",
     "output_type": "stream",
     "text": [
      "Inception Score: 4.588 ± 0.152\n"
     ]
    }
   ],
   "source": [
    "# Inception Score function\n",
    "def inception_score_from_preds(preds, splits=10):\n",
    "    \"\"\"Calculate the Inception Score from precomputed predictions.\"\"\"\n",
    "    scores = []\n",
    "    N = preds.shape[0]\n",
    "    for k in range(splits):\n",
    "        part = preds[k * (N // splits): (k + 1) * (N // splits), :]\n",
    "        py = np.mean(part, axis=0)\n",
    "        scores.append(np.exp(np.mean(entropy(part, py, base=np.e, axis=1)))) \n",
    "    return np.mean(scores), np.std(scores)\n",
    "\n",
    "# Load the inception predictions\n",
    "inception_preds = np.load(f\"../contents/{run_name}/last_layer.npy\")\n",
    "logits = torch.tensor(inception_preds)  # Convert to a PyTorch tensor if not already\n",
    "probs = torch.nn.functional.softmax(logits, dim=1).numpy()  # Apply softmax and convert back to numpy\n",
    "\n",
    "# Calculate the Inception Score\n",
    "inception_score, inception_std = inception_score_from_preds(probs)\n",
    "print(f\"Inception Score: {inception_score:.3f} ± {inception_std:.3f}\")"
   ]
  },
  {
   "cell_type": "code",
   "execution_count": 100,
   "metadata": {},
   "outputs": [
    {
     "data": {
      "image/png": "[encoded data removed]",
      "text/plain": [
       "<Figure size 2000x600 with 30 Axes>"
      ]
     },
     "metadata": {},
     "output_type": "display_data"
    }
   ],
   "source": [
    "# Display 3 images for each digit\n",
    "\n",
    "run_name = \"RUN_cnn-nh(16, 32, 32, 16)-actGELU_ddpm-b(0.0001, 0.02)-nt1000_lr0.0002(4)\"\n",
    "base_path = f\"../contents/{run_name}/predicted_labels\"\n",
    "\n",
    "n_digits = 10  \n",
    "n_images_per_digit = 3\n",
    "\n",
    "fig, axes = plt.subplots(n_images_per_digit, n_digits, figsize=(n_digits * 2, n_images_per_digit * 2))\n",
    "\n",
    "for digit in range(n_digits):\n",
    "    digit_path = os.path.join(base_path, str(digit))\n",
    "    image_files = sorted(os.listdir(digit_path))[:n_images_per_digit]\n",
    "    \n",
    "    for i, image_file in enumerate(image_files):\n",
    "        img_path = os.path.join(digit_path, image_file)\n",
    "        img = mpimg.imread(img_path)\n",
    "\n",
    "        if img.ndim == 3 and img.shape[2] in [3, 4]:\n",
    "            img = img.mean(axis=-1)\n",
    "\n",
    "        if i == 0:\n",
    "            axes[i,digit].set_title(digit, fontsize = 20)\n",
    "        \n",
    "        axes[i, digit].imshow(img, cmap='gray')\n",
    "        axes[i, digit].axis('off') \n",
    "\n",
    "plt.tight_layout()\n",
    "rect = patches.Rectangle((0.0, 0.0), 1, 1, linewidth=4, edgecolor=sd2022_blue, facecolor='none', transform=fig.transFigure, clip_on=False)\n",
    "fig.patches.append(rect)\n",
    "plt.show()"
   ]
  }
 ],
 "metadata": {
  "accelerator": "GPU",
  "colab": {
   "gpuType": "A100",
   "machine_shape": "hm",
   "provenance": []
  },
  "kernelspec": {
   "display_name": "Python 3",
   "name": "python3"
  },
  "language_info": {
   "codemirror_mode": {
    "name": "ipython",
    "version": 3
   },
   "file_extension": ".py",
   "mimetype": "text/x-python",
   "name": "python",
   "nbconvert_exporter": "python",
   "pygments_lexer": "ipython3",
   "version": "3.10.14"
  }
 },
 "nbformat": 4,
 "nbformat_minor": 0
}
